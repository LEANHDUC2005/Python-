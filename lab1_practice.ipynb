{
 "cells": [
  {
   "cell_type": "markdown",
   "id": "5c189f9a",
   "metadata": {},
   "source": []
  },
  {
   "cell_type": "markdown",
   "id": "e81170bb",
   "metadata": {},
   "source": [
    "Phần 1.2 – Biến và kiểu dữ liệu (trung bình → khó)\n",
    "Tính tổng chữ số của một số nguyên nhập vào.\n",
    "\n",
    "Đổi chỗ 2 biến mà không dùng biến tạm.\n",
    "\n",
    "Nhập một danh sách số nguyên, in ra số lớn thứ hai.\n",
    "\n",
    "Viết chương trình đổi đơn vị từ độ C sang độ F và ngược lại.\n",
    "\n",
    "Nhập một danh sách chứa nhiều kiểu dữ liệu, đếm số phần tử thuộc mỗi kiểu (int, float, str).\n",
    "\n"
   ]
  },
  {
   "cell_type": "code",
   "execution_count": null,
   "id": "d83a6e66",
   "metadata": {},
   "outputs": [
    {
     "name": "stdout",
     "output_type": "stream",
     "text": [
      "9\n"
     ]
    }
   ],
   "source": [
    "#1\n",
    "a = int(input(\"Nhap so nguyen:\"))\n",
    "strlen_a = len(str(a))\n",
    "print(strlen_a)"
   ]
  },
  {
   "cell_type": "code",
   "execution_count": null,
   "id": "5db8510c",
   "metadata": {},
   "outputs": [
    {
     "name": "stdout",
     "output_type": "stream",
     "text": [
      "2 1\n"
     ]
    }
   ],
   "source": [
    "#2\n",
    "a = int(input(\"Nhap so a:\"))\n",
    "b = int(input(\"Nhap so b:\"))\n",
    "a = a + b\n",
    "b = a - b\n",
    "a = a - b\n",
    "print(a,b)\n",
    "# phep tinh pythonic a,b = b,a"
   ]
  },
  {
   "cell_type": "code",
   "execution_count": 17,
   "id": "75ada90a",
   "metadata": {},
   "outputs": [
    {
     "name": "stdout",
     "output_type": "stream",
     "text": [
      "4\n"
     ]
    }
   ],
   "source": [
    "a = []\n",
    "while True:\n",
    "    x = int(input(\"nhap so (nhap 0 de ket thuc)\"))\n",
    "    a.append(x)\n",
    "    if ( x == 0 ): break\n",
    "sorted(a)\n",
    "print(a[0])\n"
   ]
  },
  {
   "cell_type": "code",
   "execution_count": null,
   "id": "244168d0",
   "metadata": {},
   "outputs": [
    {
     "name": "stdout",
     "output_type": "stream",
     "text": [
      "Nhiet do F sau khi chuyen doi: 53.6\n",
      "Nhiet do C sau khi chuyen doi 1.11\n"
     ]
    }
   ],
   "source": [
    "doC = int(input(\"Nhap do C:\"))\n",
    "doCsangF = doC * float(9/5) + 32\n",
    "print(f\"Nhiet do F sau khi chuyen doi: {round(doCsangF,2)}\")\n",
    "doF = int(input(\"Nhap do F:\"))\n",
    "doFsangC = ( doF - 32 ) * float(5/9)\n",
    "print(f\"Nhiet do C sau khi chuyen doi {round(doFsangC,2)}\")"
   ]
  },
  {
   "cell_type": "code",
   "execution_count": null,
   "id": "8a77ed57",
   "metadata": {},
   "outputs": [
    {
     "name": "stdout",
     "output_type": "stream",
     "text": [
      "1\n",
      "1\n",
      "3\n"
     ]
    }
   ],
   "source": [
    "intcount = 0 \n",
    "floatcount = 0 \n",
    "strcount = 0 \n",
    "a = [ 1, \"hello\" , 5.6, 'c', 'd']\n",
    "for i in a:\n",
    "    if ( isinstance(i, int)): intcount = intcount + 1\n",
    "    elif ( isinstance(i, float)): floatcount  = floatcount + 1\n",
    "    elif ( isinstance(i, str) ): strcount = strcount + 1\n",
    "    else : continue\n",
    "print(intcount)\n",
    "print(floatcount)\n",
    "print(strcount)"
   ]
  },
  {
   "cell_type": "markdown",
   "id": "5b04cfc0",
   "metadata": {},
   "source": [
    "Phần 1.2 – Xử lý chuỗi (nâng cao)\n",
    "Nhập một chuỗi, in ra chuỗi đảo ngược và kiểm tra xem nó có phải palindrome không.\n",
    "\n",
    "Nhập một chuỗi, đếm số lần xuất hiện của mỗi ký tự (không phân biệt hoa thường).\n",
    "\n",
    "Viết hàm tách một chuỗi thành các từ, sau đó in ra từ dài nhất.\n",
    "\n",
    "Nhập một email, kiểm tra hợp lệ (chứa @, không có khoảng trắng, có tên miền).\n",
    "\n",
    "Viết hàm mã hóa Caesar với khóa k (dịch ký tự trong bảng chữ cái).\n",
    "\n",
    "Phần 1.3 – Toán tử (trung bình → khó)\n",
    "Nhập 2 số, in ra số nào gần 100 nhất.\n",
    "\n",
    "Nhập 3 cạnh tam giác, kiểm tra có tạo thành tam giác hợp lệ không (dùng toán tử logic).\n",
    "\n",
    "Nhập một số nguyên, kiểm tra xem nó có nằm trong khoảng [a, b] không.\n",
    "\n",
    "Viết chương trình so sánh 2 danh sách xem chúng có cùng phần tử hay không (không quan tâm thứ tự).\n",
    "\n",
    "Nhập 2 số nguyên a, b, hoán đổi giá trị chỉ bằng toán tử XOR.\n",
    "\n",
    "Phần 1.4 – If - Else (trung bình → khó)\n",
    "Viết chương trình tính chỉ số BMI và phân loại (Gầy, Bình thường, Thừa cân...).\n",
    "\n",
    "Nhập một năm, kiểm tra có phải năm nhuận không.\n",
    "\n",
    "Nhập điểm thi, phân loại học lực (Xuất sắc, Giỏi, Khá...).\n",
    "\n",
    "Nhập tọa độ (x, y), xác định điểm thuộc góc phần tư nào của trục tọa độ.\n",
    "\n",
    "Giả lập máy ATM: nhập số tiền rút, kiểm tra số dư và in số tờ tiền cần phát.\n",
    "\n",
    "Phần 1.5 – Cấu trúc lặp (trung bình → khó)\n",
    "In bảng cửu chương từ 2 đến 9.\n",
    "\n",
    "Tìm tất cả số nguyên tố trong khoảng [a, b].\n",
    "\n",
    "Tính giai thừa của một số bằng vòng lặp.\n",
    "\n",
    "Viết trò chơi đoán số: máy chọn ngẫu nhiên, người đoán đến khi đúng.\n",
    "\n",
    "Vẽ hình tam giác sao * cân bằng vòng lặp."
   ]
  },
  {
   "cell_type": "markdown",
   "id": "cdd3d9c4",
   "metadata": {},
   "source": [
    "Phần 1.2 – Xử lý chuỗi (nâng cao)\n",
    "Nhập một chuỗi, in ra chuỗi đảo ngược và kiểm tra xem nó có phải palindrome không.\n",
    "\n",
    "Nhập một chuỗi, đếm số lần xuất hiện của mỗi ký tự (không phân biệt hoa thường).\n",
    "\n",
    "Viết hàm tách một chuỗi thành các từ, sau đó in ra từ dài nhất.\n",
    "\n",
    "Nhập một email, kiểm tra hợp lệ (chứa @, không có khoảng trắng, có tên miền).\n",
    "\n",
    "Viết hàm mã hóa Caesar với khóa k (dịch ký tự trong bảng chữ cái)."
   ]
  },
  {
   "cell_type": "code",
   "execution_count": null,
   "id": "59f5c4ff",
   "metadata": {},
   "outputs": [],
   "source": []
  },
  {
   "cell_type": "code",
   "execution_count": 36,
   "id": "733e2181",
   "metadata": {},
   "outputs": [
    {
     "name": "stdout",
     "output_type": "stream",
     "text": [
      "NO\n"
     ]
    }
   ],
   "source": [
    "chuoi = input(\"Nhap chuoi:\")\n",
    "if ( chuoi == chuoi[::-1] ) : print(\"YES\")\n",
    "else : print(\"NO\")\n"
   ]
  },
  {
   "cell_type": "code",
   "execution_count": null,
   "id": "2dae94a4",
   "metadata": {},
   "outputs": [],
   "source": [
    "def trungLap(temp, a):\n",
    "    for i in temp:\n",
    "        if ( a == i ): return 1\n",
    "    return 0\n",
    "\n",
    "temp = []\n",
    "chuoi = input(\"Nhap chuoi\")\n",
    "for i in range(len(chuoi)):\n",
    "    if chuoi(i) \n"
   ]
  },
  {
   "cell_type": "code",
   "execution_count": null,
   "id": "482ceaa9",
   "metadata": {},
   "outputs": [],
   "source": []
  }
 ],
 "metadata": {
  "kernelspec": {
   "display_name": "aligner",
   "language": "python",
   "name": "python3"
  },
  "language_info": {
   "codemirror_mode": {
    "name": "ipython",
    "version": 3
   },
   "file_extension": ".py",
   "mimetype": "text/x-python",
   "name": "python",
   "nbconvert_exporter": "python",
   "pygments_lexer": "ipython3",
   "version": "3.11.12"
  }
 },
 "nbformat": 4,
 "nbformat_minor": 5
}
