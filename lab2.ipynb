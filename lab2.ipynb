{
 "cells": [
  {
   "cell_type": "markdown",
   "id": "7d2a58af",
   "metadata": {},
   "source": [
    "Câu 1:\n",
    "a/  Cho arr_1 là mảng số nguyên chẵn [2, 4, 6, 8, 10], arr_2 là mảng số nguyên lẻ [1, 3, 5, 7, 11]. Tạo biến kiểu Serries ser1 từ arr_1, ser2 từ arr_2. In danh sách các phần tử của ser1 và ser2\n",
    "b/ Thực hiện phép toán và thể hiện kết quả của:  ser1 + ser2 \n",
    "c/ Thực hiện phép toán và thể hiện kết quả của:  ser1 - ser2 \n",
    "d/ Thực hiện phép toán và thể hiện kết quả của:  ser1 * ser2\n",
    "e/ Thực hiện phép toán và thể hiện kết quả của:  ser1 / ser2\n"
   ]
  },
  {
   "cell_type": "code",
   "execution_count": null,
   "id": "72e5a962",
   "metadata": {},
   "outputs": [],
   "source": [
    "arr_1 = [2, 4, 6, 8, 10]\n",
    "arr_2 = [1, 3, 5, 7, 11]\n"
   ]
  }
 ],
 "metadata": {
  "language_info": {
   "name": "python"
  }
 },
 "nbformat": 4,
 "nbformat_minor": 5
}
