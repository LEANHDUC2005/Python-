{
 "cells": [
  {
   "cell_type": "markdown",
   "id": "477c682f",
   "metadata": {},
   "source": [
    "📝 Bài tập vận dụng\n",
    "\n",
    "Bài 1. Tạo một list gồm 5 số nguyên bất kỳ, in ra list đó.\n",
    "Bài 2. Tạo một list gồm tên 3 người bạn của bạn, in từng tên trên một dòng.\n",
    "Bài 3. Tạo một list rỗng, sau đó thêm lần lượt các phần tử 10, 20, 30 rồi in ra.\n",
    "\n",
    "🚀 Bài vận dụng cao\n",
    "\n",
    "Bài 4. Viết chương trình nhập vào số nguyên n, sau đó nhập vào danh sách gồm n phần tử (có thể là chuỗi hoặc số). In ra danh sách đó và cho biết danh sách chứa bao nhiêu phần tử kiểu số nguyên, bao nhiêu phần tử kiểu chuỗi."
   ]
  },
  {
   "cell_type": "code",
   "execution_count": 1,
   "id": "a091ad70",
   "metadata": {},
   "outputs": [
    {
     "name": "stdout",
     "output_type": "stream",
     "text": [
      "[1, 2, 4, 5, 6]\n"
     ]
    }
   ],
   "source": [
    "list1 = [1, 2, 4, 5, 6]\n",
    "print(list1)"
   ]
  },
  {
   "cell_type": "code",
   "execution_count": 4,
   "id": "d5f765df",
   "metadata": {},
   "outputs": [
    {
     "name": "stdout",
     "output_type": "stream",
     "text": [
      "['Le Anh Duc', 'Nguyen Hai Son', 'Hoang Gia Phong']\n"
     ]
    }
   ],
   "source": [
    "list2 = ['Le Anh Duc', 'Nguyen Hai Son', 'Hoang Gia Phong']\n",
    "print(list2)"
   ]
  },
  {
   "cell_type": "code",
   "execution_count": 10,
   "id": "db5d331d",
   "metadata": {},
   "outputs": [
    {
     "name": "stdout",
     "output_type": "stream",
     "text": [
      "[10, 20, 30]\n"
     ]
    }
   ],
   "source": [
    "list3 = []\n",
    "temp = [10,20,30]\n",
    "list3.extend(temp)\n",
    "print(list3)\n"
   ]
  },
  {
   "cell_type": "code",
   "execution_count": null,
   "id": "cb81fe51",
   "metadata": {},
   "outputs": [
    {
     "name": "stdout",
     "output_type": "stream",
     "text": [
      "Running test cases...\n",
      "✅ Tất cả test case đã passed!\n"
     ]
    }
   ],
   "source": [
    "def countDigitandString(list):\n",
    "    listresult = [0,0]\n",
    "    for i in list:\n",
    "        if isinstance(i,int): listresult[0] = listresult[0] + 1\n",
    "        else: listresult[1] = listresult[1] + 1\n",
    "    return listresult\n",
    "n = int(input(\"Nhap vao so nguyen n:\"))\n",
    "list = []\n",
    "for i in range(n):\n",
    "    val = input(\"Nhap phan  thu %d :\" % (i + 1))\n",
    "    if val.isdigit(): list.append(int(val))\n",
    "    else: list.append(val)\n",
    "result = countDigitandString(list)\n",
    "print(f\"Ket qua [ phan tu so, phan tu chuoi ]: {result}\")\n",
    "# ========================\n",
    "# 🔎 Test case\n",
    "# ========================\n",
    "print(\"Running test cases...\")\n",
    "\n",
    "# Test 1: toàn số nguyên\n",
    "assert countDigitandString([1, 2, 3]) == [3, 0]\n",
    "\n",
    "# Test 2: toàn chuỗi\n",
    "assert countDigitandString([\"a\", \"b\", \"c\"]) == [0, 3]\n",
    "\n",
    "# Test 3: hỗn hợp số nguyên và chuỗi\n",
    "assert countDigitandString([1, \"a\", 2, \"b\"]) == [2, 2]\n",
    "\n",
    "# Test 4: rỗng\n",
    "assert countDigitandString([]) == [0, 0]\n",
    "\n",
    "# Test 5: list có số nguyên âm\n",
    "assert countDigitandString([-5, \"hello\", 10]) == [2, 1]\n",
    "\n",
    "print(\"✅ Tất cả test case đã passed!\")\n"
   ]
  },
  {
   "cell_type": "markdown",
   "id": "7d60f384",
   "metadata": {},
   "source": [
    "📝 Bài tập\n",
    "\n",
    "Tạo một list gồm các số chẵn từ 2 → 10.\n",
    "\n",
    "Tạo một list chứa tên 5 môn học bạn đang học.\n",
    "\n",
    "Tạo một list gồm các số lẻ từ 1 → 9, in ra phần tử đầu tiên và cuối cùng.\n",
    "\n",
    "🚀 Vận dụng cao: Viết chương trình nhập vào số nguyên n, sau đó nhập vào n số nguyên để tạo list. In ra list đó và tổng các phần tử trong list."
   ]
  },
  {
   "cell_type": "code",
   "execution_count": null,
   "id": "5064acaa",
   "metadata": {},
   "outputs": [
    {
     "name": "stdout",
     "output_type": "stream",
     "text": [
      "1 9\n",
      "[4, 5, 6] 15\n"
     ]
    }
   ],
   "source": [
    "list1 = [2, 4, 6, 8, 10]\n",
    "list2 = ['Toan', 'Ly', 'Hoa', 'Sinh', 'Su']\n",
    "list3 = [1, 3, 5, 7, 9]\n",
    "print(list3[0], list3[-1])\n",
    "list4 = []\n",
    "n = int(input(\"Nhap so nguyen n:\"))\n",
    "for i in range(n):\n",
    "    val = int(input(f\"Nhap phan tu thu {i+1}:\"))\n",
    "    list4.append(val)\n",
    "print(list4,sum(list4))"
   ]
  },
  {
   "cell_type": "markdown",
   "id": "acfa6b3e",
   "metadata": {},
   "source": [
    "🔹 2.1.2.3 Tạo list bằng cách lặp lại list đã có\n",
    "📝 Bài tập\n",
    "\n",
    "Tạo list [1] lặp lại 10 lần.\n",
    "\n",
    "Tạo list [\"Hi\"] lặp lại 5 lần.\n",
    "\n",
    "Tạo list [1,2,3] lặp lại 4 lần rồi in ra độ dài.\n",
    "\n",
    "🚀 Vận dụng cao: Viết chương trình nhập vào một chuỗi s và số n, sau đó tạo list chứa chuỗi s lặp lại n lần."
   ]
  },
  {
   "cell_type": "code",
   "execution_count": null,
   "id": "16aaf764",
   "metadata": {},
   "outputs": [
    {
     "name": "stdout",
     "output_type": "stream",
     "text": [
      "[1, 1, 1, 1, 1, 1, 1, 1, 1, 1]\n"
     ]
    }
   ],
   "source": [
    "list1 = [1] * 10\n",
    "print(list)"
   ]
  },
  {
   "cell_type": "code",
   "execution_count": 37,
   "id": "ade628d1",
   "metadata": {},
   "outputs": [
    {
     "name": "stdout",
     "output_type": "stream",
     "text": [
      "['Hi', 'Hi', 'Hi', 'Hi', 'Hi']\n"
     ]
    }
   ],
   "source": [
    "list2 = [\"Hi\"] * 5\n",
    "print(list2)"
   ]
  },
  {
   "cell_type": "code",
   "execution_count": 38,
   "id": "1439bf38",
   "metadata": {},
   "outputs": [
    {
     "name": "stdout",
     "output_type": "stream",
     "text": [
      "12\n"
     ]
    }
   ],
   "source": [
    "list3 = [1, 2, 3] * 4\n",
    "print(len(list3))"
   ]
  },
  {
   "cell_type": "code",
   "execution_count": 39,
   "id": "deff27e2",
   "metadata": {},
   "outputs": [
    {
     "name": "stdout",
     "output_type": "stream",
     "text": [
      "['hello', 'hello', 'hello']\n"
     ]
    }
   ],
   "source": [
    "s = input(\"Nhap chuoi s:\")\n",
    "n = int(input(\"Nhap so n:\"))\n",
    "list4 = [s] * n\n",
    "print(list4)"
   ]
  },
  {
   "cell_type": "markdown",
   "id": "75ab46a7",
   "metadata": {},
   "source": [
    "2.1.2.4 Tạo list bằng cách copy các phần tử từ vị trí index tới cuối\n",
    "📝 Bài tập\n",
    "\n",
    "Cho list [1,2,3,4,5]. Tạo list mới từ phần tử thứ 3 đến hết.\n",
    "\n",
    "Cho list [\"a\",\"b\",\"c\",\"d\"]. Copy từ phần tử thứ 2 đến hết.\n",
    "\n",
    "Tạo list [10,20,30,40,50,60]. Copy từ phần tử thứ 4 đến hết.\n",
    "\n",
    "🚀 Vận dụng cao: Viết chương trình nhập vào một list số nguyên, sau đó nhập vào chỉ số k. Tạo list mới chứa các phần tử từ k đến hết list ban đầu."
   ]
  },
  {
   "cell_type": "code",
   "execution_count": null,
   "id": "dc83b0f0",
   "metadata": {},
   "outputs": [
    {
     "name": "stdout",
     "output_type": "stream",
     "text": [
      "[3, 4, 5, 6, 7, 8, 9]\n"
     ]
    }
   ],
   "source": [
    "list1 = [1, 2, 3, 4, 5] \n",
    "list1new = list1[2:]\n",
    "list2 = [\"a\",\"b\",\"c\",\"d\"]\n",
    "list2.extend(list2[1:])\n",
    "list3 = [10, 20, 30, 40, 50, 60]\n",
    "list3.extend(list3[1:])\n",
    "# print(list3)\n",
    "list4 = []\n",
    "while(True):\n",
    "    val = input(\"Nhap vao phan tu ( nhap q de ket thuc ):\")\n",
    "    if val.isdigit(): list4.append(int(val))\n",
    "    else : break\n",
    "k = int(input(\"Nhap chi so so k:\"))\n",
    "list4new = list4[k:]\n",
    "print(list4new)"
   ]
  },
  {
   "cell_type": "markdown",
   "id": "d96ed020",
   "metadata": {},
   "source": [
    "📌 5 Bài tập vận dụng nâng cao\n",
    "Bài 1.\n",
    "\n",
    "Cho list:\n",
    "\n",
    "nums = [5, 8, 12, 20, 25, 30, 50, 80]\n",
    "\n",
    "\n",
    "Lấy ra phần tử thứ 3 và phần tử cuối cùng.\n",
    "\n",
    "Lấy ra 3 phần tử đầu tiên.\n",
    "\n",
    "Lấy ra 3 phần tử cuối cùng bằng chỉ số âm."
   ]
  },
  {
   "cell_type": "code",
   "execution_count": 11,
   "id": "b17b4285",
   "metadata": {},
   "outputs": [
    {
     "name": "stdout",
     "output_type": "stream",
     "text": [
      "Phan tu thu 3:12, phan tu cuoi cung 80\n",
      "3 Phan tu dau tien: [5, 8, 12]\n",
      "3 Phan tu cuoi cung: [30, 50, 80]\n"
     ]
    }
   ],
   "source": [
    "nums = [5, 8, 12, 20, 25, 30, 50, 80]\n",
    "print(f\"Phan tu thu 3:{nums[2]}, phan tu cuoi cung {nums[-1]}\")\n",
    "print(f\"3 Phan tu dau tien: {nums[:3]}\")\n",
    "print(f\"3 Phan tu cuoi cung: {nums[-3:]}\")"
   ]
  },
  {
   "cell_type": "markdown",
   "id": "c2a03835",
   "metadata": {},
   "source": [
    "Bài 2.\n",
    "\n",
    "Cho list số nguyên nums = [1,2,3,4,5,6,7,8,9,10]\n",
    "\n",
    "Lấy tất cả số chẵn bằng slicing.\n",
    "\n",
    "Lấy tất cả số lẻ bằng slicing.\n",
    "\n",
    "Lấy danh sách đảo ngược ([::-1])."
   ]
  },
  {
   "cell_type": "code",
   "execution_count": 12,
   "id": "8d7ab12d",
   "metadata": {},
   "outputs": [
    {
     "name": "stdout",
     "output_type": "stream",
     "text": [
      "Phan tu chan [2, 4, 6, 8, 10]\n",
      "Phan tu le [1, 3, 5, 7, 9]\n",
      "Danh sach dao nguoc [10, 9, 8, 7, 6, 5, 4, 3, 2, 1]\n"
     ]
    }
   ],
   "source": [
    "nums = [1,2,3,4,5,6,7,8,9,10]\n",
    "print(f\"Phan tu chan {nums[1::2]}\")\n",
    "print(f\"Phan tu le {nums[0::2]}\")\n",
    "print(f\"Danh sach dao nguoc {nums[::-1]}\")"
   ]
  },
  {
   "cell_type": "markdown",
   "id": "98243eb9",
   "metadata": {},
   "source": [
    "Bài 3.\n",
    "\n",
    "Viết chương trình nhập một list bất kỳ từ bàn phím.\n",
    "\n",
    "Xuất ra phần tử đầu, phần tử cuối.\n",
    "\n",
    "Xuất ra 3 phần tử ở giữa list (nếu list có ít hơn 3 phần tử thì in ra toàn bộ)."
   ]
  },
  {
   "cell_type": "code",
   "execution_count": null,
   "id": "220c26c9",
   "metadata": {},
   "outputs": [
    {
     "name": "stdout",
     "output_type": "stream",
     "text": [
      "Phan tu dau 1, Phan tu cuoi 6\n",
      "['3', '4', '5']\n"
     ]
    }
   ],
   "source": [
    "lst = []\n",
    "while(True):\n",
    "    val = input(\"Nhap phan tu ( nhap q de ket thuc ):\")\n",
    "    if ( val == 'q' ) : break\n",
    "    lst.append(val)\n",
    "print(f\"Phan tu dau {lst[0]}, Phan tu cuoi {lst[-1]}\")\n",
    "if ( len(lst) < 3 ) : print(lst)\n",
    "else : print( lst[ (len(lst)//2) - 1: (len(lst)//2) + 2 ] )"
   ]
  },
  {
   "cell_type": "code",
   "execution_count": 22,
   "id": "7f254459",
   "metadata": {},
   "outputs": [
    {
     "name": "stdout",
     "output_type": "stream",
     "text": [
      "[(1, 2), (100, 4), (5, 7), (3, 100)]\n"
     ]
    }
   ],
   "source": [
    "def custom_sort(elem):\n",
    "    return elem[1]\n",
    "list = [(1, 2), (5, 7), (3, 100), (100, 4)]\n",
    "list.sort(key=custom_sort)\n",
    "print(list)\n",
    "# Kết quả: [(1, 2), (4, 4), (5, 7), (7, 100)]"
   ]
  },
  {
   "cell_type": "markdown",
   "id": "30ebc850",
   "metadata": {},
   "source": [
    "🎯 Bài tập lớn – Quản lý Danh sách Sinh viên\n",
    "\n",
    "Viết chương trình Python mô phỏng việc quản lý danh sách sinh viên với các chức năng sau:\n",
    "\n",
    "Yêu cầu\n",
    "\n",
    "Khởi tạo một list rỗng để lưu tên sinh viên.\n",
    "\n",
    "Thêm sinh viên:\n",
    "\n",
    "Sử dụng append() để thêm một sinh viên mới vào cuối danh sách.\n",
    "\n",
    "Sử dụng insert() để thêm một sinh viên vào một vị trí chỉ định.\n",
    "\n",
    "Sử dụng extend() để thêm nhiều sinh viên cùng lúc.\n",
    "\n",
    "Xem danh sách sinh viên:\n",
    "\n",
    "In danh sách hiện tại.\n",
    "\n",
    "Sử dụng copy() để tạo một bản sao danh sách phòng khi cần backup.\n",
    "\n",
    "Tìm kiếm & Thống kê:\n",
    "\n",
    "Dùng count() để biết có bao nhiêu sinh viên trùng tên.\n",
    "\n",
    "Dùng index() để tìm vị trí của một sinh viên trong danh sách.\n",
    "\n",
    "Xóa sinh viên:\n",
    "\n",
    "Dùng remove() để xóa một sinh viên theo tên.\n",
    "\n",
    "Dùng pop() để xóa sinh viên ở một vị trí chỉ định.\n",
    "\n",
    "Dùng clear() để xóa toàn bộ danh sách khi kết thúc học kỳ.\n",
    "\n",
    "Sắp xếp & Đảo ngược:\n",
    "\n",
    "Dùng sort() để sắp xếp danh sách theo tên (A → Z).\n",
    "\n",
    "Dùng reverse() để đảo ngược danh sách (Z → A)."
   ]
  },
  {
   "cell_type": "code",
   "execution_count": null,
   "id": "a99af06d",
   "metadata": {},
   "outputs": [
    {
     "ename": "_IncompleteInputError",
     "evalue": "incomplete input (348954990.py, line 19)",
     "output_type": "error",
     "traceback": [
      "  \u001b[36mCell\u001b[39m\u001b[36m \u001b[39m\u001b[32mIn[30]\u001b[39m\u001b[32m, line 19\u001b[39m\n\u001b[31m    \u001b[39m\n    ^\n\u001b[31m_IncompleteInputError\u001b[39m\u001b[31m:\u001b[39m incomplete input\n"
     ]
    }
   ],
   "source": [
    "listsv = []\n",
    "# Them sinh vien\n",
    "def themSinhvien(listsv):\n",
    "    # Nhap du lieu\n",
    "    choice = input(\"Chon them [ 1 Sinh Vien , Chen sinh vien, Nhieu sinh vien]:\")\n",
    "    # Them sinh vien vao cuoi ds\n",
    "    if ( choice == \"1 Sinh Vien\"):\n",
    "        val = input(\"Nhap ho va ten sinh vien:\")\n",
    "        listsv.append(val)\n",
    "    # Chen them sinh vien vao vi tri chi dinh\n",
    "    elif ( choice == \"Chen sinh vien\"):\n",
    "        index = int(input(\"Nhap vi tri can chen: \"))\n",
    "        val = input(\"Nhap ho va ten sinh vien can chen\")\n",
    "        listsv.insert(index,val)\n",
    "    # Them nhieu sinh vien\n",
    "    elif ( choice == \"Nhieu sinh vien\"):\n",
    "        svadd = []\n",
    "        while(True):\n",
    "            val = input(\"Nhap ten sinh vien ( nhap q de ket thuc ):\")\n",
    "            if ( val == q ) : break\n",
    "            svadd.append(val)\n",
    "        listsv.extend(svadd)\n",
    "    else : print(\"Lua chon khong hop le\")\n",
    "def xuatSinhvien(listsv):\n",
    "    print(listsv)\n",
    "    backup = listsv.copy()\n",
    "def timKiemvaThongke(listsv):\n",
    "    search = input(\"Nhap ten sinh vien truy van\")\n",
    "    "
   ]
  },
  {
   "cell_type": "markdown",
   "id": "8b476cf8",
   "metadata": {},
   "source": [
    "📘 BÀI TẬP TUPLES TRONG PYTHON"
   ]
  },
  {
   "cell_type": "markdown",
   "id": "2feef219",
   "metadata": {},
   "source": [
    "🟢 Cell 1 – Bài 1: Tạo và in Tuples\n",
    "1. Tạo một tuple fruits chứa 3 loại trái cây và in ra màn hình.  \n",
    "\n",
    "2. Dùng hàm tuple() để tạo tuple numbers chứa các số từ 1 đến 5. "
   ]
  },
  {
   "cell_type": "code",
   "execution_count": 31,
   "id": "aea52652",
   "metadata": {},
   "outputs": [
    {
     "name": "stdout",
     "output_type": "stream",
     "text": [
      "('apple', 'orange', 'banana')\n"
     ]
    }
   ],
   "source": [
    "fruits = ('apple', 'orange', 'banana')\n",
    "print(fruits)"
   ]
  },
  {
   "cell_type": "code",
   "execution_count": 33,
   "id": "25f326f6",
   "metadata": {},
   "outputs": [
    {
     "name": "stdout",
     "output_type": "stream",
     "text": [
      "(1, 2, 3, 4, 5)\n"
     ]
    }
   ],
   "source": [
    "nums = tuple([1, 2, 3, 4, 5])\n",
    "print(nums)"
   ]
  },
  {
   "cell_type": "markdown",
   "id": "40332235",
   "metadata": {},
   "source": [
    "🟢 Cell 2 – Bài 2: Truy xuất phần tử trong Tuples\n",
    "Cho tuple colors = (\"red\", \"green\", \"blue\", \"yellow\", \"black\").  \n",
    "\n",
    "1. In ra phần tử thứ 3.  \n",
    "2. In ra phần tử cuối cùng.  \n",
    "3. In ra các phần tử từ vị trí 1 đến 3.  \n",
    "4. In ra các phần tử từ vị trí -4 đến -2.  "
   ]
  },
  {
   "cell_type": "code",
   "execution_count": 35,
   "id": "23784892",
   "metadata": {},
   "outputs": [
    {
     "name": "stdout",
     "output_type": "stream",
     "text": [
      "blue\n",
      "black\n",
      "('green', 'blue', 'yellow')\n",
      "('green', 'blue', 'yellow')\n"
     ]
    }
   ],
   "source": [
    "colors = (\"red\", \"green\", \"blue\", \"yellow\", \"black\")\n",
    "print(colors[2])\n",
    "print(colors[-1])\n",
    "print(colors[1:4])\n",
    "print(colors[-4:-1])\n"
   ]
  },
  {
   "cell_type": "markdown",
   "id": "e7c6558a",
   "metadata": {},
   "source": [
    "🟢 Cell 3 – Bài 3: Vòng lặp với Tuples\n",
    "Viết chương trình in từng phần tử trong tuple animals = (\"dog\", \"cat\", \"tiger\", \"lion\") bằng vòng lặp for.  \n"
   ]
  },
  {
   "cell_type": "code",
   "execution_count": 36,
   "id": "18270e8d",
   "metadata": {},
   "outputs": [
    {
     "name": "stdout",
     "output_type": "stream",
     "text": [
      "dog\n",
      "cat\n",
      "tiger\n",
      "lion\n"
     ]
    }
   ],
   "source": [
    "animals = (\"dog\", \"cat\", \"tiger\", \"lion\")\n",
    "for i in animals:\n",
    "    print(i)"
   ]
  },
  {
   "cell_type": "markdown",
   "id": "b9b05c86",
   "metadata": {},
   "source": [
    "🟢 Cell 4 – Bài 4: Thay đổi giá trị trong Tuples\n",
    "Cho tuple x = (\"pen\", \"book\", \"eraser\").  \n",
    "\n",
    "Đổi giá trị \"book\" thành \"notebook\" "
   ]
  },
  {
   "cell_type": "code",
   "execution_count": null,
   "id": "95fde0d4",
   "metadata": {},
   "outputs": [
    {
     "name": "stdout",
     "output_type": "stream",
     "text": [
      "('pen', 'notebook', 'eraser')\n"
     ]
    }
   ],
   "source": [
    "x = (\"pen\", \"book\", \"eraser\")\n",
    "x = list(x)\n",
    "for i in range(len(x)):\n",
    "    if ( x[i] == \"book\"): x[i] = \"notebook\"\n",
    "x = tuple(x)\n",
    "print(x)"
   ]
  },
  {
   "cell_type": "markdown",
   "id": "02ddeeb1",
   "metadata": {},
   "source": [
    "🟢 Cell 5 – Bài 5: Các phương thức cơ bản\n",
    "Cho tuple a = (2, 4, 6, 2, 8, 2, 10).  \n",
    "\n",
    "1. Đếm số lần xuất hiện của số 2.  \n",
    "2. Tìm vị trí đầu tiên của số 8.  "
   ]
  },
  {
   "cell_type": "markdown",
   "id": "9ae3731d",
   "metadata": {},
   "source": [
    "🟢 Cell 6 – Bài 6: Chiều dài của Tuple\n",
    "Viết chương trình nhập một tuple bất kỳ từ người dùng (dùng eval(input())), sau đó in ra độ dài của tuple.  \n"
   ]
  },
  {
   "cell_type": "markdown",
   "id": "02a796a5",
   "metadata": {},
   "source": [
    "🟢 Cell 7 – Bài 7: Tuple đặc biệt\n",
    "1. Tạo một tuple chỉ có một phần tử \"apple\", in ra kiểu dữ liệu.  \n",
    "2. So sánh với tuple không có dấu ,.  "
   ]
  },
  {
   "cell_type": "markdown",
   "id": "f7494892",
   "metadata": {},
   "source": [
    "\n",
    "🟢 Cell 8 – Bài 8: Xoá Tuple\n",
    "Tạo tuple cars = (\"Honda\", \"Yamaha\", \"Suzuki\").  \n",
    "\n",
    "Xoá toàn bộ tuple và thử in ra màn hình. Quan sát kết quả.  "
   ]
  },
  {
   "cell_type": "markdown",
   "id": "1705cb84",
   "metadata": {},
   "source": [
    "🟢 Cell 9 – Bài 9: Nối Tuples\n",
    "Cho tuple1 = (\"a\", \"b\", \"c\"), tuple2 = (1, 2, 3).  \n",
    "\n",
    "Hãy nối chúng thành tuple3 và in ra kết quả.  "
   ]
  },
  {
   "cell_type": "markdown",
   "id": "bdf78464",
   "metadata": {},
   "source": [
    "🟢 Cell 10 – Bài 10: Bài tập nâng cao\n",
    "1. Viết chương trình nhập vào một tuple số nguyên.  \n",
    "   - In ra tổng các phần tử trong tuple.  \n",
    "   - In ra phần tử lớn nhất và nhỏ nhất.  \n",
    "\n",
    "2. Viết chương trình đảo ngược tuple (1, 2, 3, 4, 5) thành (5, 4, 3, 2, 1).  \n",
    "\n",
    "3. Viết chương trình kiểm tra xem một giá trị có tồn tại trong tuple hay không.  \n",
    "\n",
    "4. Viết chương trình biến tuple thành list, sắp xếp tăng dần rồi biến lại thành tuple.  \n",
    "\n",
    "5. Viết chương trình tạo tuple chứa 10 số nguyên ngẫu nhiên từ 1 đến 100 (dùng random), rồi in ra số chẵn và số lẻ.  \n"
   ]
  },
  {
   "cell_type": "markdown",
   "id": "fa0df394",
   "metadata": {},
   "source": [
    "# Cell 1: Giới thiệu Set\n",
    "# Mục tiêu: Hiểu set là gì, tính chất không trùng lặp, không có thứ tự\n",
    "\n",
    "# Tạo một set\n",
    "fruits = {\"apple\", \"banana\", \"cherry\", \"apple\"}\n",
    "print(\"Set fruits:\", fruits)\n",
    "print(\"Số phần tử trong set:\", len(fruits))\n",
    "\n",
    "# Bài tập:\n",
    "# Tạo set chứa 5 loại hoa quả khác nhau\n",
    "# In ra set và nhận xét thứ tự của các phần tử"
   ]
  },
  {
   "cell_type": "code",
   "execution_count": 47,
   "id": "afbc337c",
   "metadata": {},
   "outputs": [
    {
     "name": "stdout",
     "output_type": "stream",
     "text": [
      "{'banana', 'apple', 'orange', 'cherry', 'mango'}\n"
     ]
    }
   ],
   "source": [
    "fruits = {\"apple\", \"banana\", \"cherry\", \"mango\", \"orange\"}\n",
    "print(fruits)"
   ]
  },
  {
   "cell_type": "markdown",
   "id": "087e8077",
   "metadata": {},
   "source": [
    "# Cell 2: Cách tạo set\n",
    "# Tạo set bằng {} và set()\n",
    "\n",
    "# Cách 1\n",
    "set1 = {\"apple\", \"banana\", \"cherry\"}\n",
    "print(\"Set1:\", set1)\n",
    "\n",
    "# Cách 2\n",
    "set2 = set((\"apple\", \"banana\", \"cherry\"))\n",
    "print(\"Set2:\", set2)\n",
    "\n",
    "# Bài tập:\n",
    "# Tạo set từ list [1,2,2,3,4] và quan sát kết quả\n"
   ]
  },
  {
   "cell_type": "code",
   "execution_count": 50,
   "id": "b2c1a3b6",
   "metadata": {},
   "outputs": [
    {
     "name": "stdout",
     "output_type": "stream",
     "text": [
      "{1, 2, 3, 4}\n"
     ]
    }
   ],
   "source": [
    "st = set([1, 2, 2, 3, 4])\n",
    "print(st)"
   ]
  },
  {
   "cell_type": "markdown",
   "id": "b66f6e1b",
   "metadata": {},
   "source": [
    "# Cell 3: Kiểm tra tồn tại phần tử\n",
    "thisset = {\"apple\", \"banana\", \"cherry\"}\n",
    "print(\"Kiểm tra 'banana' trong set:\", \"banana\" in thisset)\n",
    "print(\"Kiểm tra 'orange' trong set:\", \"orange\" in thisset)\n",
    "\n",
    "# Bài tập:\n",
    "# Thử truy xuất thisset[0] và quan sát lỗi\n"
   ]
  },
  {
   "cell_type": "code",
   "execution_count": 51,
   "id": "c4f9cdbe",
   "metadata": {},
   "outputs": [
    {
     "ename": "TypeError",
     "evalue": "'set' object is not subscriptable",
     "output_type": "error",
     "traceback": [
      "\u001b[31m---------------------------------------------------------------------------\u001b[39m",
      "\u001b[31mTypeError\u001b[39m                                 Traceback (most recent call last)",
      "\u001b[36mCell\u001b[39m\u001b[36m \u001b[39m\u001b[32mIn[51]\u001b[39m\u001b[32m, line 2\u001b[39m\n\u001b[32m      1\u001b[39m thisset = {\u001b[33m\"\u001b[39m\u001b[33mapple\u001b[39m\u001b[33m\"\u001b[39m, \u001b[33m\"\u001b[39m\u001b[33mbanana\u001b[39m\u001b[33m\"\u001b[39m, \u001b[33m\"\u001b[39m\u001b[33mcherry\u001b[39m\u001b[33m\"\u001b[39m}\n\u001b[32m----> \u001b[39m\u001b[32m2\u001b[39m \u001b[38;5;28mprint\u001b[39m(\u001b[43mthisset\u001b[49m\u001b[43m[\u001b[49m\u001b[32;43m0\u001b[39;49m\u001b[43m]\u001b[49m)\n",
      "\u001b[31mTypeError\u001b[39m: 'set' object is not subscriptable"
     ]
    }
   ],
   "source": [
    "thisset = {\"apple\", \"banana\", \"cherry\"}\n",
    "print(thisset[0])"
   ]
  },
  {
   "cell_type": "markdown",
   "id": "a0232fe5",
   "metadata": {},
   "source": [
    "# Cell 4: Thêm phần tử vào set\n",
    "thisset = {\"apple\", \"banana\", \"cherry\"}\n",
    "thisset.add(\"orange\")\n",
    "print(\"Thêm 'orange':\", thisset)\n",
    "\n",
    "# Thêm phần tử trùng lặp\n",
    "thisset.add(\"apple\")\n",
    "print(\"Thêm 'apple' lần nữa:\", thisset)\n",
    "\n",
    "# Bài tập: thêm một phần tử mới và quan sát set\n"
   ]
  },
  {
   "cell_type": "code",
   "execution_count": 55,
   "id": "cb7d2dac",
   "metadata": {},
   "outputs": [
    {
     "name": "stdout",
     "output_type": "stream",
     "text": [
      "{'cherry', 'mango', 'banana', 'apple'}\n"
     ]
    }
   ],
   "source": [
    "thisset = {\"apple\", \"banana\", \"cherry\"}\n",
    "thisset.add(\"apple\")\n",
    "thisset.add(\"mango\")\n",
    "print(thisset)"
   ]
  },
  {
   "cell_type": "markdown",
   "id": "aa681f24",
   "metadata": {},
   "source": [
    "# Cell 5: Thêm nhiều phần tử\n",
    "thisset = {\"apple\", \"banana\", \"cherry\"}\n",
    "thisset.update([\"orange\", \"mango\", \"grapes\"])\n",
    "print(\"Sau khi update:\", thisset)\n",
    "\n",
    "# Bài tập:\n",
    "# Thêm một list chứa phần tử trùng lặp và quan sát kết quả\n"
   ]
  },
  {
   "cell_type": "code",
   "execution_count": 57,
   "id": "4aabd26b",
   "metadata": {},
   "outputs": [
    {
     "name": "stdout",
     "output_type": "stream",
     "text": [
      "thisset after update {'banana', 'apple', 'lime', 'orange', 'cherry', 'kiwi'}\n"
     ]
    }
   ],
   "source": [
    "thisset = {\"apple\", \"banana\", \"cherry\"}\n",
    "thisset.update((\"orange\", \"kiwi\", \"lime\"))\n",
    "print(f\"thisset after update {thisset}\")"
   ]
  },
  {
   "cell_type": "markdown",
   "id": "be057533",
   "metadata": {},
   "source": [
    "# Cell 6: Đo chiều dài set\n",
    "thisset = {\"apple\", \"banana\", \"cherry\", \"apple\"}\n",
    "print(\"Độ dài set:\", len(thisset))\n",
    "\n",
    "# Bài tập: nhập một số phần tử trùng nhau vào set, tính len()\n"
   ]
  },
  {
   "cell_type": "markdown",
   "id": "9a7c0ef8",
   "metadata": {},
   "source": [
    "# Cell 7: Xóa phần tử\n",
    "thisset = {\"apple\", \"banana\", \"cherry\"}\n",
    "\n",
    "# remove()\n",
    "thisset.remove(\"banana\")\n",
    "print(\"Sau remove('banana'):\", thisset)\n",
    "\n",
    "# discard()\n",
    "thisset.discard(\"orange\")  # không lỗi nếu phần tử không tồn tại\n",
    "print(\"Sau discard('orange'):\", thisset)\n",
    "\n",
    "# pop()\n",
    "x = thisset.pop()  # xóa phần tử ngẫu nhiên\n",
    "print(\"Phần tử pop():\", x)\n",
    "print(\"Set còn lại:\", thisset)\n",
    "\n",
    "# clear()\n",
    "thisset.clear()\n",
    "print(\"Sau clear():\", thisset)\n",
    "\n",
    "# Bài tập: thử pop nhiều lần và quan sát phần tử bị xóa\n"
   ]
  },
  {
   "cell_type": "markdown",
   "id": "f22dd905",
   "metadata": {},
   "source": [
    "# Cell 8: Gia nhập hai set\n",
    "set1 = {\"a\", \"b\", \"c\"}\n",
    "set2 = {1, 2, 3}\n",
    "\n",
    "# union()\n",
    "set3 = set1.union(set2)\n",
    "print(\"set3 (union):\", set3)\n",
    "\n",
    "# update()\n",
    "set1.update(set2)\n",
    "print(\"set1 (update):\", set1)\n",
    "\n",
    "# Bài tập: quan sát sự khác nhau giữa union() và update()\n"
   ]
  },
  {
   "cell_type": "markdown",
   "id": "d55e9a58",
   "metadata": {},
   "source": [
    "# Cell 9: Bài tập tổng hợp\n",
    "n = int(input(\"Nhập số phần tử n: \"))\n",
    "myset = set()\n",
    "\n",
    "# Nhập n phần tử\n",
    "for i in range(n):\n",
    "    val = input(f\"Nhập phần tử thứ {i+1}: \")\n",
    "    myset.add(val)\n",
    "\n",
    "print(\"Set sau khi nhập:\", myset)\n",
    "\n",
    "# Bài tập nâng cao:\n",
    "# 1. Kiểm tra phần tử có tồn tại không\n",
    "# 2. Thêm và xóa một số phần tử\n",
    "# 3. Tách set thành 2 set: số và chuỗi (nếu nhập hỗn hợp)\n"
   ]
  },
  {
   "cell_type": "markdown",
   "id": "3517322f",
   "metadata": {},
   "source": [
    "Bài tập:\n",
    "Phần bài tập các kiểu dữ liệu List\n",
    "1.\tSử dụng kiểu dữ liệu List in ra màn hình tam giác được tạo thành từ những dấu * với chiều cao 4 đơn vị.\n"
   ]
  },
  {
   "cell_type": "code",
   "execution_count": 5,
   "id": "18565b0c",
   "metadata": {},
   "outputs": [
    {
     "name": "stdout",
     "output_type": "stream",
     "text": [
      " * \n",
      " * * \n",
      " * * * \n",
      " * * * * \n"
     ]
    }
   ],
   "source": [
    "tamgiac = [\n",
    "    \" * \",\n",
    "    \" * * \",\n",
    "    \" * * * \",\n",
    "    \" * * * * \",\n",
    "]\n",
    "for i in tamgiac:\n",
    "    print(i)"
   ]
  },
  {
   "cell_type": "markdown",
   "id": "5d1eaa18",
   "metadata": {},
   "source": [
    "2.\tSử dụng kiểu List viết chương trình có dữ liệu điểm trung bình môn học của học sinh Nguyễn Văn A như sau:\n",
    "\tNguyễn Văn A: Toán 7.4 Lý 6.5 Hoá 7.0\n",
    "\tHiển thị màn hình hướng dẫn nhập liệu search thông qua nhập tên học sinh. Ví dụ nhập Nguyễn Văn A thì nghĩa là hiển thị xuất ra tên và điểm trung bình môn học.\n",
    "GỢI Ý: Áp dụng các kiểu dữ liệu List cho tên và từng môn học tương ứng cho Học Sinh như sau\n",
    "Ten= [“Nguyen Van A”,  “Nguyen Van B”, “Nguyen Van C”]\n",
    "Toan= [“7.4”,  “6.5”, “7.0”]\n",
    "Tương tự cho các môn còn lại. Ví dụ search Nguyen Van A nghĩa là chọn kiểu list vị trí số 1 thì xuất ra màn hình Ten[0], Toan[0], Ly[0], Hoa[0].\n",
    "\n"
   ]
  },
  {
   "cell_type": "code",
   "execution_count": null,
   "id": "e9fb3a3f",
   "metadata": {},
   "outputs": [
    {
     "name": "stdout",
     "output_type": "stream",
     "text": [
      "Khong tim thay sinh vien\n"
     ]
    }
   ],
   "source": [
    "student = [\"Nguyen Van A\", \"Nguyen Van B\", \"Nguyen Van C\"]\n",
    "Toan = []\n",
    "Ly = []\n",
    "Hoa = []\n",
    "\n",
    "student_name = input(\"Nhap ten hoc sinh:\")\n",
    "if ( student_name == \"Nguyen Van A\"):\n",
    "    print(\" \".join(student))\n",
    "else:\n",
    "    print(\"Khong tim thay sinh vien\")\n"
   ]
  },
  {
   "cell_type": "markdown",
   "id": "92576747",
   "metadata": {},
   "source": []
  }
 ],
 "metadata": {
  "kernelspec": {
   "display_name": "Python 3",
   "language": "python",
   "name": "python3"
  },
  "language_info": {
   "codemirror_mode": {
    "name": "ipython",
    "version": 3
   },
   "file_extension": ".py",
   "mimetype": "text/x-python",
   "name": "python",
   "nbconvert_exporter": "python",
   "pygments_lexer": "ipython3",
   "version": "3.13.5"
  }
 },
 "nbformat": 4,
 "nbformat_minor": 5
}
