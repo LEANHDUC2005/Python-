{
 "cells": [
  {
   "cell_type": "markdown",
   "id": "0c75f8ed",
   "metadata": {},
   "source": [
    "Bài tập:\n",
    "Phần bài tập các kiểu dữ liệu List\n",
    "1. Sử dụng kiểu dữ liệu List in ra màn hình tam giác được tạo thành từ những dấu * với chiều cao 4\n",
    "đơn vị."
   ]
  },
  {
   "cell_type": "code",
   "execution_count": 2,
   "id": "96bf6cb5",
   "metadata": {},
   "outputs": [
    {
     "name": "stdout",
     "output_type": "stream",
     "text": [
      "*\n",
      "* *\n",
      "* * * \n",
      "* * * * \n"
     ]
    }
   ],
   "source": [
    "lst_1 = [ \"*\" , \"* *\", \"* * * \", \"* * * * \" ]\n",
    "for i in lst_1:\n",
    "    print(i)\n"
   ]
  },
  {
   "cell_type": "markdown",
   "id": "688f85cc",
   "metadata": {},
   "source": [
    "2. Sử dụng kiểu List viết chương trình có dữ liệu điểm trung bình môn học của học sinh Nguyễn\n",
    "Văn A như sau:\n",
    " Nguyễn Văn A: Toán 7.4 Lý 6.5 Hoá 7.0\n",
    " Hiển thị màn hình hướng dẫn nhập liệu search thông qua nhập tên học sinh. Ví dụ nhập\n",
    "Nguyễn Văn A thì nghĩa là hiển thị xuất ra tên và điểm trung bình môn học."
   ]
  },
  {
   "cell_type": "code",
   "execution_count": 26,
   "id": "88d01292",
   "metadata": {},
   "outputs": [
    {
     "name": "stdout",
     "output_type": "stream",
     "text": [
      "Ho ten : Nguyen Van A  Toan: 10  Ly: 5  Hoa: 7 \n",
      "Diem Trung Binh: 7.33\n"
     ]
    }
   ],
   "source": [
    "def avg_point( math_p, pysic_p, chemic_p ):\n",
    "    return (float)( math_p + pysic_p + chemic_p )/3\n",
    "\n",
    "# Khai bao du lieu : Ten , Diem 3 mon\n",
    "lst_2_Ten = [\"Nguyen Van A\", \"Nguyen Van B\", \"Nguyen Van C\"]\n",
    "\n",
    "lst_2_Toan = [10, 9, 5.2]\n",
    "lst_2_Ly = [5, 3, 4.5]\n",
    "lst_2_Hoa = [7, 9.2, 10]\n",
    "\n",
    "# Nhap ten sinh vien \n",
    "while(True):\n",
    "\n",
    "    stu_name = input(\"Nhap ten sinh vien:\")\n",
    "    \n",
    "    # Kiem tra ten co dung dinh dang\n",
    "    stu_name_check = stu_name.split()\n",
    "    stu_name_check = \"\".join(stu_name_check)\n",
    "    \n",
    "    if ( not stu_name_check.isalpha() ):\n",
    "            print(\"Ten sinh vien khong hop le!\")\n",
    "            print(\"Vui long thu lai !\")\n",
    "\n",
    "    else:\n",
    "        break\n",
    "\n",
    "\n",
    "# Tim kiem va xuat ra diem\n",
    "for i in range( len( lst_2_Ten ) ):\n",
    "\n",
    "    if ( stu_name == lst_2_Ten[i] ): \n",
    "        print(f\"Ho ten : {stu_name}  Toan: {lst_2_Toan[i]}  Ly: {lst_2_Ly[i]}  Hoa: {lst_2_Hoa[i]} \") \n",
    "        print(f\"Diem Trung Binh: { round( avg_point( lst_2_Toan[i] , lst_2_Ly[i], lst_2_Hoa[i] ), 2 ) }\")\n",
    "        break\n",
    "\n",
    "else:\n",
    "    print(f\"Khong tim thay sinh vien co ten {stu_name}\")\n"
   ]
  },
  {
   "cell_type": "markdown",
   "id": "0278a36e",
   "metadata": {},
   "source": [
    "3. Sử dụng kiểu List viết chương trình có kiểu dữ liệu là các loại trái cây từ apple tới mango như\n",
    "trên. Xuất ra màn hình tên và giá tiền/ kg của các loại trái cây từ cherry tới melon. Dữ liệu giá\n",
    "tiền tự chọn"
   ]
  },
  {
   "cell_type": "code",
   "execution_count": 15,
   "id": "8c396fae",
   "metadata": {},
   "outputs": [
    {
     "name": "stdout",
     "output_type": "stream",
     "text": [
      "Ten trai cay: Apple \n",
      " Gia tien/kg: 10000VND\n",
      "Ten trai cay: Banana \n",
      " Gia tien/kg: 22400VND\n",
      "Ten trai cay: Cheery \n",
      " Gia tien/kg: 40000VND\n",
      "Ten trai cay: Kiwi \n",
      " Gia tien/kg: 45000VND\n",
      "Ten trai cay: Orange \n",
      " Gia tien/kg: 35000VND\n",
      "Ten trai cay: Strawberry \n",
      " Gia tien/kg: 54300VND\n",
      "Ten trai cay: Avocado \n",
      " Gia tien/kg: 58000VND\n",
      "Ten trai cay: Melon \n",
      " Gia tien/kg: 50300VND\n"
     ]
    }
   ],
   "source": [
    "# Khai bao du lieu \n",
    "lst_3_fruit = [\"Apple\", \"Banana\", \"Cheery\", \"Kiwi\", \"Orange\", \"Strawberry\", \"Avocado\", \"Melon\"]\n",
    "lst_3_fruit_money = [10000, 22400, 40000, 45000, 35000, 54300, 58000, 50300]\n",
    "\n",
    "# In ra man hinh\n",
    "for i in range( len( lst_3_fruit ) ):\n",
    "    print(f\"Ten trai cay: { lst_3_fruit[i] } \\n Gia tien/kg: { lst_3_fruit_money[i] }\" + \"VND\" )"
   ]
  },
  {
   "cell_type": "markdown",
   "id": "77b6496f",
   "metadata": {},
   "source": [
    "4. Thêm phần check tên học sinh có tồn tại hay không ở phần đầu đoạn code và xuất ra màn hình.\n",
    "THÊM VÀO CODE BÀI SỐ 2"
   ]
  },
  {
   "cell_type": "code",
   "execution_count": null,
   "id": "aec5fc70",
   "metadata": {},
   "outputs": [],
   "source": []
  }
 ],
 "metadata": {
  "kernelspec": {
   "display_name": "aligner",
   "language": "python",
   "name": "python3"
  },
  "language_info": {
   "codemirror_mode": {
    "name": "ipython",
    "version": 3
   },
   "file_extension": ".py",
   "mimetype": "text/x-python",
   "name": "python",
   "nbconvert_exporter": "python",
   "pygments_lexer": "ipython3",
   "version": "3.11.12"
  }
 },
 "nbformat": 4,
 "nbformat_minor": 5
}
