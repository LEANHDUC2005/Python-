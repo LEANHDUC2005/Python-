{
 "cells": [
  {
   "cell_type": "code",
   "execution_count": 5,
   "id": "9dcc45e0",
   "metadata": {},
   "outputs": [],
   "source": [
    "import numpy as np"
   ]
  },
  {
   "cell_type": "markdown",
   "id": "0e609d8f",
   "metadata": {},
   "source": [
    "BÀI TẬP:\n",
    "BT1: 1. Cho 2 array arr_a = [1,2,3,2,3,4,3,4,5,6] và arr_b = [7,2,10,2,7,4,9,4,9,8], tạo array arr_c\n",
    "chỉ lấy duy nhất các phần tử xuất hiện ở cả arr_a và arr_b.\n",
    "2. Từ arr_a và arr_b ở câu 1 => Tạo arr_d chứa các phần tử chỉ xuất hiện ở arr_a.\n",
    "3. Cho arr_e = np.array([2, 6, 1, 9, 10, 3, 27, 8, 6, 25, 16]), hãy tạo arr_f chỉ chứa các phần tử\n",
    "có giá trị từ 5 đến 10 của arr_e."
   ]
  },
  {
   "cell_type": "code",
   "execution_count": null,
   "id": "5bbeb108",
   "metadata": {},
   "outputs": [
    {
     "name": "stdout",
     "output_type": "stream",
     "text": [
      "[6 9 8 6]\n"
     ]
    }
   ],
   "source": [
    "arr_a = np.array([1,2,3,2,3,4,3,4,5,6])\n",
    "arr_b = np.array([7,2,10,2,7,4,9,8])\n",
    "\n",
    "arr_c = np.array([])\n",
    "\n",
    "for i in arr_b:\n",
    "    if ( i in arr_a ):\n",
    "        arr_c = np.append(arr_c, i)\n",
    "\n",
    "print(arr_c)\n",
    "\n",
    "\n",
    "arr_d = np.array([])\n",
    "\n",
    "for i in arr_a:\n",
    "    if ( not ( i in arr_b ) ):\n",
    "        arr_d = np.append(arr_d, i)\n",
    "\n",
    "print(arr_d)\n",
    "\n",
    "\n",
    "arr_e = np.array([2, 6, 1, 9, 10, 3, 27, 8, 6, 25, 16])\n",
    "\n",
    "arr_f = np.extract( (arr_e > 5) & (arr_e < 10), arr_e) \n",
    "print(arr_f)"
   ]
  },
  {
   "cell_type": "markdown",
   "id": "87467e3a",
   "metadata": {},
   "source": [
    "BT2: Hãy hoàn tất file đính kèm với các yêu cầu sau:\n",
    "1. Tạo arr_zeros có 10 phần tử 0, cập nhật phần tử ở vị trí thứ 5 là 1.\n",
    "2. Tạo arr_h có giá trị từ 10 đến 24. In danh sách các phần tử theo tứ tự đảo ngược của arr_h.\n",
    "3. Cho arr_k = np.array([1, 2, 0, 8, 2, 0, 1, 3, 0, 5, 0]), tạo arr_l từ arr_k với các phần tử khác\n",
    "0.\n",
    "4. Từ arr_l của câu 3, thêm 2 phần tử có giá trị là 10 và 20 vào cuối array.\n",
    "5. Từ array của câu 4, thêm phần tử có giá trị 100 vào vị trí có index = 5.\n",
    "6. Từ array của câu 5, xóa các phần tử tại vị trí có index = 0, 1, 2."
   ]
  },
  {
   "cell_type": "code",
   "execution_count": null,
   "id": "969d3fe8",
   "metadata": {},
   "outputs": [
    {
     "name": "stdout",
     "output_type": "stream",
     "text": [
      "[0. 0. 0. 0. 1. 0. 0. 0. 0. 0.]\n",
      "[24 23 22 21 20 19 18 17 16 15 14 13 12 11 10]\n",
      "[1 2 8 2 1 3 5]\n",
      "[ 1  2  8  2  1  3  5 10 20]\n",
      "[  1   2   8   2   1 100   3   5  10  20]\n",
      "[  2   1 100   3   5  10  20]\n"
     ]
    }
   ],
   "source": [
    "arr_zeros = np.zeros(10)\n",
    "arr_zeros[4] = 1\n",
    "print(arr_zeros)\n",
    "\n",
    "arr_h = np.arange(10,25)\n",
    "print(arr_h[::-1])\n",
    "\n",
    "arr_k = np.array([1, 2, 0, 8, 2, 0, 1, 3, 0, 5, 0])\n",
    "arr_l = np.extract(arr_k != 0, arr_k)\n",
    "print(arr_l)\n",
    "\n",
    "arr_l = np.append(arr_l, [10,20])\n",
    "print(arr_l)\n",
    "\n",
    "arr_l = np.insert(arr_l, 5, 100)\n",
    "print(arr_l)\n",
    "\n",
    "arr_l = np.delete(arr_l, [0, 1, 2])\n",
    "print(arr_l)"
   ]
  },
  {
   "cell_type": "markdown",
   "id": "b3bfdd0f",
   "metadata": {},
   "source": [
    "BT3: Hãy hoàn tất file đính kèm với các yêu cầu sau:\n",
    "1. Tạo array arr có kích thước 3x3 với các giá trị True\n",
    "2. Cho arr_1D = np.array([0 1 2 3 4 5 6 7 8]). Tạo array 2 chiều có kích thước 3x3 từ arr_1D,\n",
    "và lưu vào arr_2D Trong arr_2D, chuyển cột 1 sang cột 3 và ngược lại.\n",
    "3. Từ arr_2D của câu 2 (sau khi đổi thứ tự cột), chuyển dòng 1 sang dòng 2 và ngược lại.\n",
    "4. Từ arr_2D của câu 3, đảo ngược các dòng của arr_2D.\n",
    "5. Từ arr_2D của câu 4, đảo ngược các cột của arr_2D.\n",
    "6. Cho arr_2D_null = np.array([[1, 2, 3], [np.NaN, 5, 6], [7, np.NaN, 9], [4, 5, 6]]), Kiểm tra\n",
    "trong array có giá trị rỗng không?\n",
    "7. Từ arr_2D_null của câu 6, thay thế giá trị null bằng 0."
   ]
  },
  {
   "cell_type": "code",
   "execution_count": null,
   "id": "7173b461",
   "metadata": {},
   "outputs": [
    {
     "name": "stdout",
     "output_type": "stream",
     "text": [
      "Ex1\n",
      "[[1. 1. 1.]\n",
      " [1. 1. 1.]\n",
      " [1. 1. 1.]]\n",
      "Ex2\n",
      "[[0 1 2]\n",
      " [3 4 5]\n",
      " [6 7 8]]\n",
      "[[2 1 0]\n",
      " [5 4 3]\n",
      " [8 7 6]]\n",
      "Ex3\n",
      "[[5 4 3]\n",
      " [2 1 0]\n",
      " [8 7 6]]\n",
      "Ex4\n",
      "[[5 4 3]\n",
      " [2 1 0]\n",
      " [8 7 6]]\n",
      "Ex5\n",
      "[[3 4 5]\n",
      " [0 1 2]\n",
      " [6 7 8]]\n",
      "[1.]\n"
     ]
    }
   ],
   "source": [
    "#1\n",
    "print(\"Ex1\")\n",
    "arr = np.ones([3,3])\n",
    "print(arr)\n",
    "\n",
    "#2\n",
    "print(\"Ex2\")\n",
    "arr_1D = np.array([0, 1, 2, 3, 4, 5, 6, 7, 8])\n",
    "arr_2D = arr_1D.reshape([3,3])\n",
    "print(arr_2D)\n",
    "\n",
    "arr_temp = arr_2D[:,2].copy()\n",
    "arr_2D[:,2] = arr_2D[:,0]\n",
    "arr_2D[:,0] = arr_temp\n",
    "print(arr_2D)\n",
    "\n",
    "#3\n",
    "print(\"Ex3\")\n",
    "arr_2D[[0,1],:] = arr_2D[[1,0],:]\n",
    "print(arr_2D)\n",
    "\n",
    "#4\n",
    "print(\"Ex4\")\n",
    "arr_2D[::-1]\n",
    "print(arr_2D)\n",
    "\n",
    "#5\n",
    "print(\"Ex5\")\n",
    "arr_2D[:,[0,1,2]] = arr_2D[:,[2,1,0]]\n",
    "print(arr_2D)\n",
    "\n",
    "#Ex6\n",
    "arr_2D_null = np.array([[1, 2, 3], [np.nan, 5, 6], [7, np.nan, 9], [4, 5, 6]])\n",
    "np.isnan(arr_2D_null)\n",
    "arr_temp = arr_2D_null[arr_2D_null == 1]\n",
    "print(type(arr_temp))\n"
   ]
  },
  {
   "cell_type": "code",
   "execution_count": null,
   "id": "30777683",
   "metadata": {},
   "outputs": [
    {
     "name": "stdout",
     "output_type": "stream",
     "text": [
      "[[False False False]\n",
      " [ True False False]\n",
      " [False  True False]\n",
      " [False False False]]\n",
      "[[1. 2. 3.]\n",
      " [1. 5. 6.]\n",
      " [7. 1. 9.]\n",
      " [4. 5. 6.]]\n"
     ]
    }
   ],
   "source": [
    "\n",
    "#Ex6\n",
    "arr_2D_null = np.array([[1, 2, 3], [np.nan, 5, 6], [7, np.nan, 9], [4, 5, 6]])\n",
    "\n",
    "condition = np.isnan(arr_2D_null)\n",
    "print(condition)\n",
    "\n",
    "#Ex7\n",
    "arr_2D_null[ np.isnan(arr_2D_null) ] = 0\n",
    "# [ arr_2D_null == np.nan ] = 0    Khong hoat dong \n",
    "\n",
    "arr_2D_null = np.nan_to_num( arr_2D_null , nan = 0 )\n",
    "print(arr_2D_null)"
   ]
  },
  {
   "cell_type": "markdown",
   "id": "fb306cee",
   "metadata": {},
   "source": [
    "BT2: Hãy hoàn tất file đính kèm với các yêu cầu sau:\n",
    "1. Tạo arr_zeros có 10 phần tử 0, cập nhật phần tử ở vị trí thứ 5 là 1.\n",
    "2. Tạo arr_h có giá trị từ 10 đến 24. In danh sách các phần tử theo tứ tự đảo ngược của arr_h.\n",
    "3. Cho arr_k = np.array([1, 2, 0, 8, 2, 0, 1, 3, 0, 5, 0]), tạo arr_l từ arr_k với các phần tử khác\n",
    "0.\n",
    "4. Từ arr_l của câu 3, thêm 2 phần tử có giá trị là 10 và 20 vào cuối array.\n",
    "5. Từ array của câu 4, thêm phần tử có giá trị 100 vào vị trí có index = 5.\n",
    "6. Từ array của câu 5, xóa các phần tử tại vị trí có index = 0, 1, 2."
   ]
  },
  {
   "cell_type": "code",
   "execution_count": 36,
   "id": "a57e093f",
   "metadata": {},
   "outputs": [
    {
     "name": "stdout",
     "output_type": "stream",
     "text": [
      "[0. 0. 0. 0. 0. 1. 0. 0. 0. 0.]\n",
      "[10 11 12 13 14 15 16 17 18 19 20 21 22 23 24]\n",
      "[1 2 8 2 1 3 5]\n",
      "[ 1  2  8  2  1  3  5 10 20]\n",
      "[  1   2   8   2   1 100   3   5  10  20]\n",
      "[  2   1 100   3   5  10  20]\n"
     ]
    }
   ],
   "source": [
    "#Ex1\n",
    "arr_zeros = np.zeros( 10 )\n",
    "arr_zeros[5] = 1\n",
    "print(arr_zeros)\n",
    "\n",
    "#Ex2\n",
    "arr_h = np.arange( 10, 25 )\n",
    "print(arr_h)\n",
    "\n",
    "#Ex3\n",
    "arr_k = np.array([1, 2, 0, 8, 2, 0, 1, 3, 0, 5, 0])\n",
    "arr_l = arr_k[ arr_k !=0 ]\n",
    "print(arr_l)\n",
    "\n",
    "#Ex4\n",
    "value = [10,20]\n",
    "for i in range(2):   \n",
    "    arr_l = np.append( arr_l, value[i] )\n",
    "print(arr_l)\n",
    "\n",
    "#Ex5\n",
    "arr_l = np.insert( arr_l, 5, 100 )\n",
    "print(arr_l)\n",
    "\n",
    "#Ex6\n",
    "arr_l = np.delete( arr_l , [0,1,2] )\n",
    "print(arr_l)"
   ]
  },
  {
   "cell_type": "code",
   "execution_count": null,
   "id": "c467275d",
   "metadata": {},
   "outputs": [],
   "source": []
  }
 ],
 "metadata": {
  "kernelspec": {
   "display_name": "aligner",
   "language": "python",
   "name": "python3"
  },
  "language_info": {
   "codemirror_mode": {
    "name": "ipython",
    "version": 3
   },
   "file_extension": ".py",
   "mimetype": "text/x-python",
   "name": "python",
   "nbconvert_exporter": "python",
   "pygments_lexer": "ipython3",
   "version": "3.11.12"
  }
 },
 "nbformat": 4,
 "nbformat_minor": 5
}
