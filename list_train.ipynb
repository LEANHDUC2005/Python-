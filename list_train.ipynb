{
 "cells": [
  {
   "cell_type": "markdown",
   "id": "f23b359e",
   "metadata": {},
   "source": [
    "📝 BÀI TẬP LUYỆN LIST TRONG PYTHON\n",
    "🎯 Phần 1: Cơ bản\n",
    "\n",
    "Tạo một list numbers = [10, 20, 30, 40, 50].\n",
    "\n",
    "In ra phần tử đầu tiên và cuối cùng.\n",
    "\n",
    "In ra các phần tử từ index 1 đến 3.\n",
    "\n",
    "Cho list fruits = [\"apple\", \"banana\", \"cherry\"].\n",
    "\n",
    "Thêm \"orange\" vào cuối list.\n",
    "\n",
    "Chèn \"kiwi\" vào vị trí số 1.\n",
    "\n",
    "Nối list [\"mango\", \"grape\"] vào list fruits."
   ]
  },
  {
   "cell_type": "code",
   "execution_count": null,
   "id": "24ee6c03",
   "metadata": {},
   "outputs": [
    {
     "name": "stdout",
     "output_type": "stream",
     "text": [
      "20 50\n"
     ]
    }
   ],
   "source": [
    "numbers = [10, 20, 30, 40, 50]"
   ]
  },
  {
   "cell_type": "code",
   "execution_count": null,
   "id": "b18abd2a",
   "metadata": {},
   "outputs": [],
   "source": [
    "print(numbers[1], numbers[-1])"
   ]
  },
  {
   "cell_type": "code",
   "execution_count": 3,
   "id": "747b6ec4",
   "metadata": {},
   "outputs": [
    {
     "name": "stdout",
     "output_type": "stream",
     "text": [
      "10\n",
      "20\n",
      "30\n"
     ]
    }
   ],
   "source": [
    "for i in range(3):\n",
    "    print(numbers[i])"
   ]
  },
  {
   "cell_type": "code",
   "execution_count": 6,
   "id": "76e08e73",
   "metadata": {},
   "outputs": [
    {
     "name": "stdout",
     "output_type": "stream",
     "text": [
      "['apple', 'banana', 'cherry', 'orange']\n"
     ]
    }
   ],
   "source": [
    "fruits = [\"apple\", \"banana\", \"cherry\"]\n",
    "fruits.extend([\"orange\"])\n",
    "print(fruits)"
   ]
  },
  {
   "cell_type": "code",
   "execution_count": null,
   "id": "855c11e6",
   "metadata": {},
   "outputs": [],
   "source": [
    "fruits.insert(1, \"kiwi\")"
   ]
  },
  {
   "cell_type": "code",
   "execution_count": 15,
   "id": "3f0021f5",
   "metadata": {},
   "outputs": [
    {
     "name": "stdout",
     "output_type": "stream",
     "text": [
      "['apple', 'kiwi', 'banana', 'cherry', 'orange', 'mango, grape']\n"
     ]
    }
   ],
   "source": [
    "fruits.extend([\"mango, grape\"])\n",
    "print(fruits)"
   ]
  },
  {
   "cell_type": "markdown",
   "id": "fee6efa2",
   "metadata": {},
   "source": [
    "Cho list a = [1, 2, 3, 4, 5].\n",
    "\n",
    "Xóa số 3 bằng remove().\n",
    "\n",
    "Xóa phần tử ở vị trí index = 0 bằng pop().\n",
    "\n",
    "Xóa toàn bộ list bằng clear()."
   ]
  },
  {
   "cell_type": "code",
   "execution_count": 16,
   "id": "0105f7e5",
   "metadata": {},
   "outputs": [],
   "source": [
    "a = [1, 2, 3, 4, 5]\n",
    "a.remove(3)"
   ]
  },
  {
   "cell_type": "code",
   "execution_count": 18,
   "id": "dd11692a",
   "metadata": {},
   "outputs": [
    {
     "data": {
      "text/plain": [
       "1"
      ]
     },
     "execution_count": 18,
     "metadata": {},
     "output_type": "execute_result"
    }
   ],
   "source": [
    "a.pop(0)"
   ]
  },
  {
   "cell_type": "code",
   "execution_count": 19,
   "id": "ce93e555",
   "metadata": {},
   "outputs": [],
   "source": [
    "a.clear()"
   ]
  },
  {
   "cell_type": "code",
   "execution_count": 20,
   "id": "1c7ea3df",
   "metadata": {},
   "outputs": [
    {
     "name": "stdout",
     "output_type": "stream",
     "text": [
      "[]\n"
     ]
    }
   ],
   "source": [
    "print(a)"
   ]
  },
  {
   "cell_type": "code",
   "execution_count": null,
   "id": "481a5273",
   "metadata": {},
   "outputs": [],
   "source": [
    "🎯 Phần 2: Trung bình\n",
    "\n",
    "Cho list marks = [5, 8, 9, 7, 6, 8].\n",
    "\n",
    "Thay đổi giá trị phần tử ở index 2 thành 10.\n",
    "\n",
    "Tìm vị trí đầu tiên xuất hiện của số 8.\n",
    "\n",
    "Đếm số lần 8 xuất hiện."
   ]
  },
  {
   "cell_type": "code",
   "execution_count": null,
   "id": "27926e0a",
   "metadata": {},
   "outputs": [
    {
     "name": "stdout",
     "output_type": "stream",
     "text": [
      "[5, 8, 10, 7, 6, 8]\n"
     ]
    }
   ],
   "source": [
    "marks = [5, 8, 9, 7, 6, 8]\n",
    "marks[2] = 10"
   ]
  },
  {
   "cell_type": "code",
   "execution_count": null,
   "id": "0a643a61",
   "metadata": {},
   "outputs": [
    {
     "name": "stdout",
     "output_type": "stream",
     "text": [
      "Vi tri xuat hien  1\n"
     ]
    }
   ],
   "source": [
    "result = marks.index(8)\n",
    "print(\"Vi tri xuat hien\", result)"
   ]
  },
  {
   "cell_type": "code",
   "execution_count": 26,
   "id": "772bb6b3",
   "metadata": {},
   "outputs": [
    {
     "name": "stdout",
     "output_type": "stream",
     "text": [
      "So lan 8 xuat hien la 2\n"
     ]
    }
   ],
   "source": [
    "result = marks.count(8)\n",
    "print(f\"So lan 8 xuat hien la {result}\")"
   ]
  },
  {
   "cell_type": "markdown",
   "id": "9013eaa6",
   "metadata": {},
   "source": [
    "Cho list nums = [4, 1, 7, 3, 9, 2].\n",
    "\n",
    "Sắp xếp list theo thứ tự tăng dần.\n",
    "\n",
    "Sắp xếp list theo thứ tự giảm dần.\n",
    "\n",
    "Đảo ngược list."
   ]
  },
  {
   "cell_type": "code",
   "execution_count": 27,
   "id": "f99b3766",
   "metadata": {},
   "outputs": [
    {
     "name": "stdout",
     "output_type": "stream",
     "text": [
      "[1, 2, 3, 4, 7, 9]\n"
     ]
    }
   ],
   "source": [
    "nums = [4, 1, 7, 3, 9, 2]\n",
    "nums.sort()\n",
    "print(nums)"
   ]
  },
  {
   "cell_type": "code",
   "execution_count": 28,
   "id": "0b18cd78",
   "metadata": {},
   "outputs": [
    {
     "name": "stdout",
     "output_type": "stream",
     "text": [
      "[9, 7, 4, 3, 2, 1]\n"
     ]
    }
   ],
   "source": [
    "nums.sort(reverse = True)\n",
    "print(nums)"
   ]
  },
  {
   "cell_type": "code",
   "execution_count": 29,
   "id": "4731c0ab",
   "metadata": {},
   "outputs": [
    {
     "name": "stdout",
     "output_type": "stream",
     "text": [
      "[1, 2, 3, 4, 7, 9]\n"
     ]
    }
   ],
   "source": [
    "nums.reverse()\n",
    "print(nums)"
   ]
  },
  {
   "cell_type": "code",
   "execution_count": null,
   "id": "8683af29",
   "metadata": {},
   "outputs": [],
   "source": []
  }
 ],
 "metadata": {
  "kernelspec": {
   "display_name": "aligner",
   "language": "python",
   "name": "python3"
  },
  "language_info": {
   "codemirror_mode": {
    "name": "ipython",
    "version": 3
   },
   "file_extension": ".py",
   "mimetype": "text/x-python",
   "name": "python",
   "nbconvert_exporter": "python",
   "pygments_lexer": "ipython3",
   "version": "3.11.12"
  }
 },
 "nbformat": 4,
 "nbformat_minor": 5
}
