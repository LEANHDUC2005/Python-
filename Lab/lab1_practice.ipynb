{
 "cells": [
  {
   "cell_type": "markdown",
   "id": "5c189f9a",
   "metadata": {},
   "source": []
  },
  {
   "cell_type": "markdown",
   "id": "e81170bb",
   "metadata": {},
   "source": [
    "Phần 1.2 – Biến và kiểu dữ liệu (trung bình → khó)\n",
    "Tính tổng chữ số của một số nguyên nhập vào.\n",
    "\n",
    "Đổi chỗ 2 biến mà không dùng biến tạm.\n",
    "\n",
    "Nhập một danh sách số nguyên, in ra số lớn thứ hai.\n",
    "\n",
    "Viết chương trình đổi đơn vị từ độ C sang độ F và ngược lại.\n",
    "\n",
    "Nhập một danh sách chứa nhiều kiểu dữ liệu, đếm số phần tử thuộc mỗi kiểu (int, float, str).\n",
    "\n"
   ]
  },
  {
   "cell_type": "code",
   "execution_count": null,
   "id": "d83a6e66",
   "metadata": {},
   "outputs": [
    {
     "name": "stdout",
     "output_type": "stream",
     "text": [
      "9\n"
     ]
    }
   ],
   "source": [
    "#1\n",
    "a = int(input(\"Nhap so nguyen:\"))\n",
    "strlen_a = len(str(a))\n",
    "print(strlen_a)"
   ]
  },
  {
   "cell_type": "code",
   "execution_count": null,
   "id": "5db8510c",
   "metadata": {},
   "outputs": [
    {
     "name": "stdout",
     "output_type": "stream",
     "text": [
      "2 1\n"
     ]
    }
   ],
   "source": [
    "#2\n",
    "a = int(input(\"Nhap so a:\"))\n",
    "b = int(input(\"Nhap so b:\"))\n",
    "a = a + b\n",
    "b = a - b\n",
    "a = a - b\n",
    "print(a,b)\n",
    "# phep tinh pythonic a,b = b,a"
   ]
  },
  {
   "cell_type": "code",
   "execution_count": 17,
   "id": "75ada90a",
   "metadata": {},
   "outputs": [
    {
     "name": "stdout",
     "output_type": "stream",
     "text": [
      "4\n"
     ]
    }
   ],
   "source": [
    "a = []\n",
    "while True:\n",
    "    x = int(input(\"nhap so (nhap 0 de ket thuc)\"))\n",
    "    a.append(x)\n",
    "    if ( x == 0 ): break\n",
    "sorted(a)\n",
    "print(a[0])\n"
   ]
  },
  {
   "cell_type": "code",
   "execution_count": null,
   "id": "244168d0",
   "metadata": {},
   "outputs": [
    {
     "name": "stdout",
     "output_type": "stream",
     "text": [
      "Nhiet do F sau khi chuyen doi: 53.6\n",
      "Nhiet do C sau khi chuyen doi 1.11\n"
     ]
    }
   ],
   "source": [
    "doC = int(input(\"Nhap do C:\"))\n",
    "doCsangF = doC * float(9/5) + 32\n",
    "print(f\"Nhiet do F sau khi chuyen doi: {round(doCsangF,2)}\")\n",
    "doF = int(input(\"Nhap do F:\"))\n",
    "doFsangC = ( doF - 32 ) * float(5/9)\n",
    "print(f\"Nhiet do C sau khi chuyen doi {round(doFsangC,2)}\")"
   ]
  },
  {
   "cell_type": "code",
   "execution_count": null,
   "id": "8a77ed57",
   "metadata": {},
   "outputs": [
    {
     "name": "stdout",
     "output_type": "stream",
     "text": [
      "1\n",
      "1\n",
      "3\n"
     ]
    }
   ],
   "source": [
    "intcount = 0 \n",
    "floatcount = 0 \n",
    "strcount = 0 \n",
    "a = [ 1, \"hello\" , 5.6, 'c', 'd']\n",
    "for i in a:\n",
    "    if ( isinstance(i, int)): intcount = intcount + 1\n",
    "    elif ( isinstance(i, float)): floatcount  = floatcount + 1\n",
    "    elif ( isinstance(i, str) ): strcount = strcount + 1\n",
    "    else : continue\n",
    "print(intcount)\n",
    "print(floatcount)\n",
    "print(strcount)"
   ]
  },
  {
   "cell_type": "markdown",
   "id": "5b04cfc0",
   "metadata": {},
   "source": [
    "Phần 1.2 – Xử lý chuỗi (nâng cao)\n",
    "Nhập một chuỗi, in ra chuỗi đảo ngược và kiểm tra xem nó có phải palindrome không.\n",
    "\n",
    "Nhập một chuỗi, đếm số lần xuất hiện của mỗi ký tự (không phân biệt hoa thường).\n",
    "\n",
    "Viết hàm tách một chuỗi thành các từ, sau đó in ra từ dài nhất.\n",
    "\n",
    "Nhập một email, kiểm tra hợp lệ (chứa @, không có khoảng trắng, có tên miền).\n",
    "\n",
    "Viết hàm mã hóa Caesar với khóa k (dịch ký tự trong bảng chữ cái).\n",
    "\n",
    "Phần 1.3 – Toán tử (trung bình → khó)\n",
    "Nhập 2 số, in ra số nào gần 100 nhất.\n",
    "\n",
    "Nhập 3 cạnh tam giác, kiểm tra có tạo thành tam giác hợp lệ không (dùng toán tử logic).\n",
    "\n",
    "Nhập một số nguyên, kiểm tra xem nó có nằm trong khoảng [a, b] không.\n",
    "\n",
    "Viết chương trình so sánh 2 danh sách xem chúng có cùng phần tử hay không (không quan tâm thứ tự).\n",
    "\n",
    "Nhập 2 số nguyên a, b, hoán đổi giá trị chỉ bằng toán tử XOR.\n",
    "\n",
    "Phần 1.4 – If - Else (trung bình → khó)\n",
    "Viết chương trình tính chỉ số BMI và phân loại (Gầy, Bình thường, Thừa cân...).\n",
    "\n",
    "Nhập một năm, kiểm tra có phải năm nhuận không.\n",
    "\n",
    "Nhập điểm thi, phân loại học lực (Xuất sắc, Giỏi, Khá...).\n",
    "\n",
    "Nhập tọa độ (x, y), xác định điểm thuộc góc phần tư nào của trục tọa độ.\n",
    "\n",
    "Giả lập máy ATM: nhập số tiền rút, kiểm tra số dư và in số tờ tiền cần phát.\n",
    "\n",
    "Phần 1.5 – Cấu trúc lặp (trung bình → khó)\n",
    "In bảng cửu chương từ 2 đến 9.\n",
    "\n",
    "Tìm tất cả số nguyên tố trong khoảng [a, b].\n",
    "\n",
    "Tính giai thừa của một số bằng vòng lặp.\n",
    "\n",
    "Viết trò chơi đoán số: máy chọn ngẫu nhiên, người đoán đến khi đúng.\n",
    "\n",
    "Vẽ hình tam giác sao * cân bằng vòng lặp."
   ]
  },
  {
   "cell_type": "markdown",
   "id": "cdd3d9c4",
   "metadata": {},
   "source": [
    "Phần 1.2 – Xử lý chuỗi (nâng cao)\n",
    "Nhập một chuỗi, in ra chuỗi đảo ngược và kiểm tra xem nó có phải palindrome không.\n",
    "\n",
    "Nhập một chuỗi, đếm số lần xuất hiện của mỗi ký tự (không phân biệt hoa thường).\n",
    "\n",
    "Viết hàm tách một chuỗi thành các từ, sau đó in ra từ dài nhất.\n",
    "\n",
    "Nhập một email, kiểm tra hợp lệ (chứa @, không có khoảng trắng, có tên miền).\n",
    "\n",
    "Viết hàm mã hóa Caesar với khóa k (dịch ký tự trong bảng chữ cái)."
   ]
  },
  {
   "cell_type": "code",
   "execution_count": 5,
   "id": "fa325f0d",
   "metadata": {},
   "outputs": [
    {
     "ename": "TypeError",
     "evalue": "can only concatenate str (not \"int\") to str",
     "output_type": "error",
     "traceback": [
      "\u001b[31m---------------------------------------------------------------------------\u001b[39m",
      "\u001b[31mTypeError\u001b[39m                                 Traceback (most recent call last)",
      "\u001b[36mCell\u001b[39m\u001b[36m \u001b[39m\u001b[32mIn[5]\u001b[39m\u001b[32m, line 7\u001b[39m\n\u001b[32m      5\u001b[39m \u001b[38;5;28mstr\u001b[39m = \u001b[38;5;28minput\u001b[39m(\u001b[33m\"\u001b[39m\u001b[33mNhap chuoi\u001b[39m\u001b[33m\"\u001b[39m)\n\u001b[32m      6\u001b[39m k = \u001b[38;5;28mint\u001b[39m(\u001b[38;5;28minput\u001b[39m(\u001b[33m\"\u001b[39m\u001b[33mNhap k:\u001b[39m\u001b[33m\"\u001b[39m))\n\u001b[32m----> \u001b[39m\u001b[32m7\u001b[39m result = \u001b[43mCaesar\u001b[49m\u001b[43m(\u001b[49m\u001b[38;5;28;43mstr\u001b[39;49m\u001b[43m,\u001b[49m\u001b[43mk\u001b[49m\u001b[43m)\u001b[49m\n\u001b[32m      8\u001b[39m \u001b[38;5;28mprint\u001b[39m(result)\n",
      "\u001b[36mCell\u001b[39m\u001b[36m \u001b[39m\u001b[32mIn[5]\u001b[39m\u001b[32m, line 3\u001b[39m, in \u001b[36mCaesar\u001b[39m\u001b[34m(str, k)\u001b[39m\n\u001b[32m      1\u001b[39m \u001b[38;5;28;01mdef\u001b[39;00m\u001b[38;5;250m \u001b[39m\u001b[34mCaesar\u001b[39m(\u001b[38;5;28mstr\u001b[39m, k):\n\u001b[32m      2\u001b[39m     \u001b[38;5;28;01mfor\u001b[39;00m i \u001b[38;5;129;01min\u001b[39;00m \u001b[38;5;28mstr\u001b[39m:\n\u001b[32m----> \u001b[39m\u001b[32m3\u001b[39m         i = \u001b[43mi\u001b[49m\u001b[43m \u001b[49m\u001b[43m+\u001b[49m\u001b[43m \u001b[49m\u001b[43mk\u001b[49m\n\u001b[32m      4\u001b[39m     \u001b[38;5;28;01mreturn\u001b[39;00m \u001b[38;5;28mstr\u001b[39m\n",
      "\u001b[31mTypeError\u001b[39m: can only concatenate str (not \"int\") to str"
     ]
    }
   ],
   "source": [
    "def Caesar(str, k):\n",
    "    for i in str:\n",
    "        i = i + k\n",
    "    return str\n",
    "str = input(\"Nhap chuoi\")\n",
    "k = int(input(\"Nhap k:\"))\n",
    "result = Caesar(str,k)\n",
    "print(result)\n"
   ]
  },
  {
   "cell_type": "code",
   "execution_count": null,
   "id": "71fa96ee",
   "metadata": {},
   "outputs": [
    {
     "name": "stdout",
     "output_type": "stream",
     "text": [
      "NO\n"
     ]
    }
   ],
   "source": [
    "email = input(\"Nhap email:\")\n",
    "if ( email.find(\"@\") >= 0 and email.find(\" \") == -1 and len(email.split(\"@\")) == 2 ): \n",
    "    print(\"YES\")\n",
    "else : print(\"NO\")\n"
   ]
  },
  {
   "cell_type": "code",
   "execution_count": 36,
   "id": "733e2181",
   "metadata": {},
   "outputs": [
    {
     "name": "stdout",
     "output_type": "stream",
     "text": [
      "NO\n"
     ]
    }
   ],
   "source": [
    "chuoi = input(\"Nhap chuoi:\")\n",
    "if ( chuoi == chuoi[::-1] ) : print(\"YES\")\n",
    "else : print(\"NO\")\n"
   ]
  },
  {
   "cell_type": "code",
   "execution_count": 3,
   "id": "2dae94a4",
   "metadata": {},
   "outputs": [
    {
     "name": "stdout",
     "output_type": "stream",
     "text": [
      "{'h': 1, 'e': 1, 'l': 2, 'o': 1}\n"
     ]
    }
   ],
   "source": [
    "chardict = {}\n",
    "temp = []\n",
    "chuoi = input(\"Nhap chuoi\")\n",
    "chuoi.lower()\n",
    "for i in chuoi:\n",
    "    chardict[i] = chardict.get(i, 0) + 1\n",
    "print(chardict)\n"
   ]
  },
  {
   "cell_type": "code",
   "execution_count": null,
   "id": "482ceaa9",
   "metadata": {},
   "outputs": [
    {
     "name": "stdout",
     "output_type": "stream",
     "text": [
      "['my', 'name', 'is', 'Eminem', 'he', 'is', 'KINDDA', 'a', 'good', 'player', 'on', 'VALORANT']\n"
     ]
    },
    {
     "data": {
      "text/plain": [
       "'VALORANT'"
      ]
     },
     "execution_count": 13,
     "metadata": {},
     "output_type": "execute_result"
    }
   ],
   "source": [
    "\n",
    "def max(str,n):\n",
    "    if ( n == 1): return str[0]\n",
    "    Maxstr = max(str, n-1)\n",
    "    if ( len(str[n-1]) > len(Maxstr) ): return str[n-1]\n",
    "    else : return  Maxstr\n",
    "\n",
    "chuoi = input(\"Nhap chuoi\")\n",
    "listTu = chuoi.split()\n",
    "print(listTu)\n",
    "n = len(listTu)\n",
    "max(listTu, n)\n",
    "\n",
    "    "
   ]
  },
  {
   "cell_type": "code",
   "execution_count": null,
   "id": "6e61b65e",
   "metadata": {},
   "outputs": [],
   "source": []
  },
  {
   "cell_type": "code",
   "execution_count": null,
   "id": "04fda459",
   "metadata": {},
   "outputs": [],
   "source": []
  }
 ],
 "metadata": {
  "kernelspec": {
   "display_name": "aligner",
   "language": "python",
   "name": "python3"
  },
  "language_info": {
   "codemirror_mode": {
    "name": "ipython",
    "version": 3
   },
   "file_extension": ".py",
   "mimetype": "text/x-python",
   "name": "python",
   "nbconvert_exporter": "python",
   "pygments_lexer": "ipython3",
   "version": "3.11.12"
  }
 },
 "nbformat": 4,
 "nbformat_minor": 5
}
