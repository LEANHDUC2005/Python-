{
 "cells": [
  {
   "cell_type": "code",
   "execution_count": 3,
   "id": "030c4d9e",
   "metadata": {},
   "outputs": [],
   "source": [
    "import pandas as pd\n",
    "import numpy as np"
   ]
  },
  {
   "cell_type": "code",
   "execution_count": null,
   "id": "20fc5822",
   "metadata": {},
   "outputs": [
    {
     "name": "stdout",
     "output_type": "stream",
     "text": [
      "s1:\n",
      " Series([], dtype: object)\n",
      "s2:\n",
      " 1      one\n",
      "2      two\n",
      "3    three\n",
      "4     four\n",
      "dtype: object\n",
      "s3:\n",
      " 1      one\n",
      "2      two\n",
      "3    three\n",
      "4     four\n",
      "dtype: object\n",
      "s4:\n",
      " 1      one\n",
      "2      two\n",
      "3    three\n",
      "4     four\n",
      "dtype: object\n",
      "s5:\n",
      " 1      one\n",
      "2      two\n",
      "3    three\n",
      "4     four\n",
      "dtype: object\n",
      "0      one\n",
      "1      two\n",
      "2    three\n",
      "3     four\n",
      "dtype: object\n"
     ]
    }
   ],
   "source": [
    "s1 = pd.Series([],[])\n",
    "print(\"s1:\\n\",s1)\n",
    "s2 = pd.Series(['one' , 'two', 'three', 'four'], [1, 2, 3, 4])\n",
    "print(\"s2:\\n\",s2)\n",
    "s3 = pd.Series(('one', 'two', 'three', 'four'), [1, 2, 3, 4])\n",
    "print(\"s3:\\n\",s3)\n",
    "s4 = pd.Series(('one' , 'two', 'three', 'four'), (1, 2, 3, 4))\n",
    "print(\"s4:\\n\",s4)\n",
    "s5 = pd.Series({1 : 'one', 2: 'two', 3: 'three', 4: 'four'})\n",
    "print(\"s5:\\n\",s5)\n",
    "\n",
    "# s6 = pd.Series({'one', 'two', 'three', 'four'}, [1, 2, 3, 4])\n",
    "# print(\"s6:\\n\",s6)\n",
    "\n",
    "#689 if isinstance(data, (set, frozenset)):\n",
    "#--> 690     raise TypeError(f\"'{type(data).__name__}' type is unordered\")\n",
    "\n",
    "# s7 = pd.Series(1, 2)\n",
    "# print(\"s7:\\n\",s7)\n",
    "\n",
    "#TypeError: Index(...) must be called with a collection of some kind, 2 was passed\n",
    "\n",
    "s8 = pd.Series(['one', 'two', 'three', 'four'])\n",
    "print(\"s8:\\n\",s8)"
   ]
  },
  {
   "cell_type": "code",
   "execution_count": 18,
   "id": "020b1926",
   "metadata": {},
   "outputs": [
    {
     "name": "stdout",
     "output_type": "stream",
     "text": [
      "a    1\n",
      "b    2\n",
      "c    3\n",
      "d    4\n",
      "e    5\n",
      "dtype: int64\n",
      "Cach 1: 1\n",
      "Cach 2: 1\n",
      "Tu deu den can 2\n",
      "a    1\n",
      "b    2\n",
      "dtype: int64\n"
     ]
    },
    {
     "name": "stderr",
     "output_type": "stream",
     "text": [
      "C:\\Users\\Acer\\AppData\\Local\\Temp\\ipykernel_13872\\1420159837.py:5: FutureWarning: Series.__getitem__ treating keys as positions is deprecated. In a future version, integer keys will always be treated as labels (consistent with DataFrame behavior). To access a value by position, use `ser.iloc[pos]`\n",
      "  print(\"Cach 2:\", s5[0])\n"
     ]
    }
   ],
   "source": [
    "#gwt element value from Series\n",
    "s5 = pd.Series([1, 2, 3, 4, 5], index = ['a' ,'b', 'c', 'd', 'e'])\n",
    "print(s5)\n",
    "print(\"Cach 1:\", s5['a'])\n",
    "print(\"Cach 2:\", s5[0])\n",
    "print(\"Tu deu den can 2\")\n",
    "print(s5[:2])\n"
   ]
  },
  {
   "cell_type": "code",
   "execution_count": null,
   "id": "fcfd9b15",
   "metadata": {},
   "outputs": [
    {
     "name": "stdout",
     "output_type": "stream",
     "text": [
      "idx1     12\n",
      "idx2     21\n",
      "idx3    100\n",
      "dtype: int64\n"
     ]
    }
   ],
   "source": [
    "# Cap nhat phan tu\n",
    "s3 = pd.Series([12, 21, 11], index = ['idx1', 'idx2', 'idx3'])\n",
    "s3['idx3'] = 100\n",
    "print(s3)"
   ]
  },
  {
   "cell_type": "code",
   "execution_count": 22,
   "id": "c0180848",
   "metadata": {},
   "outputs": [
    {
     "name": "stdout",
     "output_type": "stream",
     "text": [
      "Before:\n",
      " 5    a\n",
      "2    b\n",
      "3    c\n",
      "4    d\n",
      "5    e\n",
      "dtype: object\n",
      "After: \n",
      " 5    a\n",
      "2    b\n",
      "3    c\n",
      "4    d\n",
      "5    e\n",
      "f    6\n",
      "dtype: object\n"
     ]
    }
   ],
   "source": [
    "# Them phan tu\n",
    "s = pd.Series(['a', 'b', 'c', 'd', 'e'], index = [5, 2, 3, 4, 5])\n",
    "print(\"Before:\\n\", s)\n",
    "s['f'] = 6\n",
    "print(\"After: \\n\", s)\n"
   ]
  },
  {
   "cell_type": "code",
   "execution_count": 27,
   "id": "16929271",
   "metadata": {},
   "outputs": [
    {
     "name": "stdout",
     "output_type": "stream",
     "text": [
      "5    a\n",
      "2    b\n",
      "3    c\n",
      "4    d\n",
      "5    e\n",
      "f    6\n",
      "dtype: object\n"
     ]
    },
    {
     "ename": "KeyError",
     "evalue": "\"['a' 'e'] not found in axis\"",
     "output_type": "error",
     "traceback": [
      "\u001b[31m---------------------------------------------------------------------------\u001b[39m",
      "\u001b[31mKeyError\u001b[39m                                  Traceback (most recent call last)",
      "\u001b[32m~\\AppData\\Local\\Temp\\ipykernel_13872\\865798201.py\u001b[39m in \u001b[36m?\u001b[39m\u001b[34m()\u001b[39m\n\u001b[32m      1\u001b[39m \u001b[38;5;66;03m#Xoa phan tu\u001b[39;00m\n\u001b[32m      2\u001b[39m print(s)\n\u001b[32m----> \u001b[39m\u001b[32m3\u001b[39m s.drop([\u001b[33m'a'\u001b[39m,\u001b[33m'e'\u001b[39m])\n\u001b[32m      4\u001b[39m print(s)\n",
      "\u001b[32mc:\\Users\\Acer\\AppData\\Local\\Programs\\Python\\Python313\\Lib\\site-packages\\pandas\\core\\series.py\u001b[39m in \u001b[36m?\u001b[39m\u001b[34m(self, labels, axis, index, columns, level, inplace, errors)\u001b[39m\n\u001b[32m   5363\u001b[39m         falcon  speed     \u001b[32m320.0\u001b[39m\n\u001b[32m   5364\u001b[39m                 length      \u001b[32m0.3\u001b[39m\n\u001b[32m   5365\u001b[39m         dtype: float64\n\u001b[32m   5366\u001b[39m         \"\"\"\n\u001b[32m-> \u001b[39m\u001b[32m5367\u001b[39m         return super().drop(\n\u001b[32m   5368\u001b[39m             labels=labels,\n\u001b[32m   5369\u001b[39m             axis=axis,\n\u001b[32m   5370\u001b[39m             index=index,\n",
      "\u001b[32mc:\\Users\\Acer\\AppData\\Local\\Programs\\Python\\Python313\\Lib\\site-packages\\pandas\\core\\generic.py\u001b[39m in \u001b[36m?\u001b[39m\u001b[34m(self, labels, axis, index, columns, level, inplace, errors)\u001b[39m\n\u001b[32m   4803\u001b[39m         obj = self\n\u001b[32m   4804\u001b[39m \n\u001b[32m   4805\u001b[39m         \u001b[38;5;28;01mfor\u001b[39;00m axis, labels \u001b[38;5;28;01min\u001b[39;00m axes.items():\n\u001b[32m   4806\u001b[39m             \u001b[38;5;28;01mif\u001b[39;00m labels \u001b[38;5;28;01mis\u001b[39;00m \u001b[38;5;28;01mnot\u001b[39;00m \u001b[38;5;28;01mNone\u001b[39;00m:\n\u001b[32m-> \u001b[39m\u001b[32m4807\u001b[39m                 obj = obj._drop_axis(labels, axis, level=level, errors=errors)\n\u001b[32m   4808\u001b[39m \n\u001b[32m   4809\u001b[39m         \u001b[38;5;28;01mif\u001b[39;00m inplace:\n\u001b[32m   4810\u001b[39m             self._update_inplace(obj)\n",
      "\u001b[32mc:\\Users\\Acer\\AppData\\Local\\Programs\\Python\\Python313\\Lib\\site-packages\\pandas\\core\\generic.py\u001b[39m in \u001b[36m?\u001b[39m\u001b[34m(self, labels, axis, level, errors, only_slice)\u001b[39m\n\u001b[32m   4874\u001b[39m                 mask = ~axis.isin(labels)\n\u001b[32m   4875\u001b[39m                 \u001b[38;5;66;03m# Check if label doesn't exist along axis\u001b[39;00m\n\u001b[32m   4876\u001b[39m                 labels_missing = (axis.get_indexer_for(labels) == -\u001b[32m1\u001b[39m).any()\n\u001b[32m   4877\u001b[39m                 \u001b[38;5;28;01mif\u001b[39;00m errors == \u001b[33m\"raise\"\u001b[39m \u001b[38;5;28;01mand\u001b[39;00m labels_missing:\n\u001b[32m-> \u001b[39m\u001b[32m4878\u001b[39m                     \u001b[38;5;28;01mraise\u001b[39;00m KeyError(f\"{labels} not found in axis\")\n\u001b[32m   4879\u001b[39m \n\u001b[32m   4880\u001b[39m             \u001b[38;5;28;01mif\u001b[39;00m isinstance(mask.dtype, ExtensionDtype):\n\u001b[32m   4881\u001b[39m                 \u001b[38;5;66;03m# GH#45860\u001b[39;00m\n",
      "\u001b[31mKeyError\u001b[39m: \"['a' 'e'] not found in axis\""
     ]
    }
   ],
   "source": [
    "#Xoa phan tu\n",
    "print(s)\n",
    "s.drop(['a','e'])\n",
    "print(s)"
   ]
  },
  {
   "cell_type": "code",
   "execution_count": 48,
   "id": "7a06aa69",
   "metadata": {},
   "outputs": [
    {
     "name": "stdout",
     "output_type": "stream",
     "text": [
      "a    1\n",
      "b    2\n",
      "c    3\n",
      "d    4\n",
      "e    5\n",
      "dtype: int64\n",
      "b    2\n",
      "d    4\n",
      "dtype: int64\n",
      "[1 2 3 4 5]\n"
     ]
    }
   ],
   "source": [
    "s2 = pd.Series([1, 2, 3, 4, 5], index = ['a', 'b', 'c', 'd', 'e'])\n",
    "print(s2)\n",
    "s3 = s2.drop(s2.index[[0, 2, 4]])\n",
    "print(s3)\n",
    "print(s2.values)"
   ]
  },
  {
   "cell_type": "code",
   "execution_count": 84,
   "id": "27d17bcc",
   "metadata": {},
   "outputs": [
    {
     "name": "stdout",
     "output_type": "stream",
     "text": [
      "1\n"
     ]
    }
   ],
   "source": [
    "s2 = pd.Series([1, 2, 3, 4, 5], index = ['a', 'b', 'c', 'd', 'e'])\n",
    "print(s2.values[0])"
   ]
  },
  {
   "cell_type": "code",
   "execution_count": null,
   "id": "5944cb2b",
   "metadata": {},
   "outputs": [
    {
     "name": "stdout",
     "output_type": "stream",
     "text": [
      "   Name  Age\n",
      "0  Bibi    7\n",
      "1  Xuxu    5\n",
      "2  Kent   10\n",
      "1     [Bibi, 7]\n",
      "2     [Xuxu, 5]\n",
      "3    [Kent, 10]\n",
      "dtype: object\n"
     ]
    }
   ],
   "source": [
    "#Tao DataFrame\n",
    "lst2 = [['Bibi',7], ['Xuxu', 5], ['Kent', 10]]\n",
    "df2 = pd.DataFrame(lst2, columns=['Name','Age'])\n",
    "print(df2)\n",
    "sr2 = pd.Series(lst2, index=[1,2,3])"
   ]
  },
  {
   "cell_type": "code",
   "execution_count": 66,
   "id": "23aa3427",
   "metadata": {},
   "outputs": [
    {
     "name": "stdout",
     "output_type": "stream",
     "text": [
      "       Name  Age\n",
      "sv1    Bibi    7\n",
      "sv2    Xuxu    5\n",
      "sv3    Kent   10\n",
      "sv4  Mickey    3\n"
     ]
    }
   ],
   "source": [
    "dic1 = {'Name':['Bibi', 'Xuxu', 'Kent', 'Mickey'], 'Age': [7, 5, 10, 3]}\n",
    "df3 = pd.DataFrame(dic1, index=['sv1','sv2','sv3','sv4'])\n",
    "print(df3)"
   ]
  },
  {
   "cell_type": "code",
   "execution_count": 71,
   "id": "1efc6920",
   "metadata": {},
   "outputs": [
    {
     "name": "stdout",
     "output_type": "stream",
     "text": [
      "     Ten  Tuoi  Diem\n",
      "st1   An    12   8.5\n",
      "st2  Hoa    12   7.5\n",
      "st3   An    12   NaN\n",
      "   Ten  Tuoi  Diem\n",
      "0   An    12   8.5\n",
      "1  Hoa    12   7.5\n",
      "2   An    12   NaN\n"
     ]
    }
   ],
   "source": [
    "data = [{'Ten': 'An', 'Tuoi': 12, 'Diem': 8.5}, {'Ten': 'Hoa', 'Tuoi': 12, 'Diem': 7.5}, {'Ten': 'An', 'Tuoi': 12} ]\n",
    "df = pd.DataFrame(data, index = ['st1', 'st2', 'st3'])\n",
    "print(df)\n",
    "df1 = pd.DataFrame(data, index=None, columns=None)\n",
    "print(df1)\n",
    "\n"
   ]
  },
  {
   "cell_type": "code",
   "execution_count": null,
   "id": "61d07556",
   "metadata": {},
   "outputs": [],
   "source": [
    "data = [{'a' : 1, 'b': 2}, {'a': 5, 'b': 10 , 'c':20}]\n",
    "# 2 cot, ten cot la ten key cua dictionary\n",
    "df1 = pd.DataFrame(data, index=['first', 'second'], columns=['a', 'b'])\n",
    "print(df1)\n",
    "# 2 cot, ten cot la ten key cua dictionary, ten mot cot khac\n"
   ]
  },
  {
   "cell_type": "code",
   "execution_count": 77,
   "id": "d0be570b",
   "metadata": {},
   "outputs": [
    {
     "name": "stdout",
     "output_type": "stream",
     "text": [
      "   one  two  three\n",
      "a  1.0    1    1.0\n",
      "b  2.0    2    2.0\n",
      "c  3.0    3    3.0\n",
      "d  NaN    4    NaN\n"
     ]
    }
   ],
   "source": [
    "# Create a DataFrame from Dict of Series\n",
    "d = { 'one': pd.Series([1, 2, 3], index=['a', 'b', 'c']),\n",
    "      'two': pd.Series([1, 2, 3, 4], index=['a', 'b', 'c', 'd']),\n",
    "      'three' : pd.Series([1, 2, 3], index=['a', 'b', 'c']), \n",
    "}\n",
    "df5 = pd.DataFrame(d, columns=['one', 'two', 'three'])\n",
    "print(df5)"
   ]
  },
  {
   "cell_type": "code",
   "execution_count": 79,
   "id": "82fa3a64",
   "metadata": {},
   "outputs": [
    {
     "name": "stdout",
     "output_type": "stream",
     "text": [
      "1.0\n"
     ]
    }
   ],
   "source": [
    "print(df5.loc['a', 'one'])"
   ]
  }
 ],
 "metadata": {
  "kernelspec": {
   "display_name": "Python 3",
   "language": "python",
   "name": "python3"
  },
  "language_info": {
   "codemirror_mode": {
    "name": "ipython",
    "version": 3
   },
   "file_extension": ".py",
   "mimetype": "text/x-python",
   "name": "python",
   "nbconvert_exporter": "python",
   "pygments_lexer": "ipython3",
   "version": "3.13.5"
  }
 },
 "nbformat": 4,
 "nbformat_minor": 5
}
