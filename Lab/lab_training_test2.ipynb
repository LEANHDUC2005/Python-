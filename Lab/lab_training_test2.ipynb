{
 "cells": [
  {
   "cell_type": "markdown",
   "id": "454a6941",
   "metadata": {},
   "source": [
    "NUMPY\n",
    "4.1Giới thiệu:\n",
    "-Là một thư viện bao gồm các đối tượng mảng đa chiều (multidimensional array) và một tập hợp các phương thức để xử lý mảng đa chiều đó.\n",
    "-Sử dụng Numpy, các toán tử toán học và logic có thể được thực hiện\n",
    "-Thay thế cho List\n",
    "-Cài đặt: pip install numpy\n",
    "4.2Ưu điểm :\n",
    "-Chứa bộ các giá trị\n",
    "-Có thể chứa các loại dữ liệu khác nhau\n",
    "-Có thể thay đổi, thêm, xóa\n",
    "-Đầy đủ chức năng tính toán\n",
    "-Rất nhiều thư viện được xây dựng sẵn trong Numpy\n"
   ]
  },
  {
   "cell_type": "code",
   "execution_count": 1,
   "id": "852aa96d",
   "metadata": {},
   "outputs": [
    {
     "name": "stdout",
     "output_type": "stream",
     "text": [
      "[1 2 3]\n",
      "<class 'numpy.ndarray'>\n"
     ]
    },
    {
     "data": {
      "text/plain": [
       "'\\n- Nhập module numpy với tên np\\n- Gọi hàm array của numpy , truyền vào tham số 1 list gồm 3 phần tử 1, 2, 3\\n- Giá trị trả về của hàm array là một mảng numpy gán cho biến array_1\\n- In mảng numpy array_1\\n- In kiểu dữ liệu của mảng numpy array_1\\n'"
      ]
     },
     "execution_count": 1,
     "metadata": {},
     "output_type": "execute_result"
    }
   ],
   "source": [
    "#Tạo mảng một chiều trong numpy\n",
    "import numpy as np\n",
    "array_1 = np.array([1, 2, 3])\n",
    "print(array_1)\n",
    "print(type(array_1))\n",
    "\"\"\"\n",
    "- Nhập module numpy với tên np\n",
    "- Gọi hàm array của numpy , truyền vào tham số 1 list gồm 3 phần tử 1, 2, 3\n",
    "- Giá trị trả về của hàm array là một mảng numpy gán cho biến array_1\n",
    "- In mảng numpy array_1\n",
    "- In kiểu dữ liệu của mảng numpy array_1\n",
    "\"\"\"\n",
    "# Noted : np.array chỉ hoạt động với kiểu dữ liệu tuần tự có thứ tụ"
   ]
  },
  {
   "cell_type": "code",
   "execution_count": null,
   "id": "dadc2c14",
   "metadata": {},
   "outputs": [
    {
     "name": "stdout",
     "output_type": "stream",
     "text": [
      "[1 2 3]\n"
     ]
    }
   ],
   "source": [
    "# Từ list, tuple: sử dụng asarray()\n",
    "import numpy as np\n",
    "x = [1, 2, 3]\n",
    "a = np.asarray(x)\n",
    "print(a)\n",
    "\"\"\"\n",
    "- Nhập module numpy với tên np\n",
    "- Tạo 1 list x gồm 3 phần tử 1, 2, 3\n",
    "- Gọi hàm asarray của numpy , truyềng vào tham số là list x\n",
    "- Kết quả trả về của hàm asarray là 1 mảng numpy mới, được gán cho biến a\n",
    "- In a ra màn hình\n",
    "\"\"\""
   ]
  },
  {
   "cell_type": "code",
   "execution_count": null,
   "id": "a7454d25",
   "metadata": {},
   "outputs": [],
   "source": [
    "# Từ range: sử dụng numpy.arange(start, stop, step, dtype)\n",
    "mang_2 = np.arange(10, 20 ,2)\n",
    "print(mang_2)\n",
    "\"\"\"\n",
    "- Gọi hàm arange của numpy, truyền các vào tham số start = 10, stop = 20, step = 2\n",
    "- Giá trị của hàm là một mảng numpy có giá trị từ 10 đến trước 20, mỗi phần tử cách đều nhau 2 đơn vị gán cho biến mang_2\n",
    "- In mảng numpy mang_2\n",
    "\"\"\"\n",
    "# Noted : \n",
    "# Điểm yếu của arange: truyền vào tham số là float\n",
    "# Nguyên nhân : Sai lệch giá trị phần tử do sai số khi tính toán\n",
    "# Hệ quả : \n",
    "# Số lượng phần tử có thể không chính xác như mong đợi\n",
    "# Không chính xác trong việc kiểm tra sự tồn tại của một phần tử"
   ]
  },
  {
   "cell_type": "code",
   "execution_count": null,
   "id": "7a8a3e52",
   "metadata": {},
   "outputs": [
    {
     "name": "stdout",
     "output_type": "stream",
     "text": [
      "[10.  12.5 15.  17.5 20. ]\n",
      "[10. 12. 14. 16. 18.]\n"
     ]
    }
   ],
   "source": [
    "# o\tTừ range có khoảng cách đều nhau: sử dụng numpy.linspace(start, stop, num, endpoint, dtype)\n",
    "mang_3 = np.linspace(10, 20, 5)\n",
    "print(mang_3)\n",
    "mang_4 = np.linspace(10, 20, 5, endpoint = False)\n",
    "print(mang_4)\n",
    "\"\"\"\n",
    "- Gọi hàm linspace của numpy, truyền vào 3 tham số start = 10, stop = 20, step = 5\n",
    "- Hàm sẽ trả về một mảng numpy chứa các giá trị từ 10 đến 20, mỗi phần tử cách đều nhau 5 đơn vị, gán vào biến mang_3\n",
    "- Gọi hàm linspace của numpy lần 2, truyền vào 4 tham số start = 10, stop = 20, step = 5, endpoint = False\n",
    "- Hàm sẽ trả về một mảng numpy chứa các giá trị từ 10 đến trước 20, mỗi phân tử cách đều nhau 5 đơn vị\n",
    "\"\"\"\n"
   ]
  },
  {
   "cell_type": "code",
   "execution_count": null,
   "id": "9d8fd1d8",
   "metadata": {},
   "outputs": [
    {
     "name": "stdout",
     "output_type": "stream",
     "text": [
      "[1 2 3]\n",
      "3\n"
     ]
    },
    {
     "data": {
      "text/plain": [
       "'\\n- In ra mảng numpy array_1\\n- In ra phần tử trong mảng numpy array_1 tại index = 0\\n'"
      ]
     },
     "execution_count": 5,
     "metadata": {},
     "output_type": "execute_result"
    }
   ],
   "source": [
    "# 4.3.2  Thao tác trên mảng:\n",
    "# o\tSố phần tử của mảng\n",
    "print(array_1)\n",
    "print(array_1.shape[0]) #(line, columns, class)\n",
    "\"\"\"\n",
    "- In ra mảng numpy array_1\n",
    "- In kích thước chiều đầu tiên của mảng numpy array_1 theo dòng\n",
    "\"\"\"\n"
   ]
  },
  {
   "cell_type": "code",
   "execution_count": null,
   "id": "08c42e3f",
   "metadata": {},
   "outputs": [],
   "source": [
    "# Cập nhật phần tử trong mảng\n",
    "array_1[1] = 250\n",
    "print(array_1[1])\n",
    "\"\"\"\n",
    "- Gán giá trị 250 cho phần tử trong mảng numpy array_1 có index = 1 \n",
    "- In ra phần tử trong mảng array_1 có index = 1\n",
    "\"\"\"\n"
   ]
  },
  {
   "cell_type": "code",
   "execution_count": null,
   "id": "a86d3fac",
   "metadata": {},
   "outputs": [],
   "source": [
    "# Truy xuất phần tử trong mảng\n",
    "mang_4 = np.array([1, 3, 2, 4, 5, 7, 9])\n",
    "print(mang_4)\n",
    "print(mang_4[3])\n",
    "print(mang_4[3:])\n",
    "print(mang_4[3:5])\n",
    "print(mang_4[mang_4 < 5])"
   ]
  },
  {
   "cell_type": "code",
   "execution_count": 13,
   "id": "fdddd4c3",
   "metadata": {},
   "outputs": [
    {
     "name": "stdout",
     "output_type": "stream",
     "text": [
      "1    a\n",
      "2    b\n",
      "3    c\n",
      "4    d\n",
      "5    e\n",
      "dtype: object\n"
     ]
    },
    {
     "data": {
      "text/plain": [
       "Index([1, 3, 5], dtype='int64')"
      ]
     },
     "execution_count": 13,
     "metadata": {},
     "output_type": "execute_result"
    }
   ],
   "source": [
    "import pandas as pd\n",
    "nd_array_1 = np.array(['a', 'b', 'c', 'd', 'e'])\n",
    "# s2 = pd.Series(nd_array_1, index = [100, 101, 102, 103])\n",
    "s2 = pd.Series(nd_array_1, [1, 2, 3, 4, 5])\n",
    "print(s2)\n",
    "s2.index[[0, 2, 4]]"
   ]
  },
  {
   "cell_type": "code",
   "execution_count": 19,
   "id": "29597d53",
   "metadata": {},
   "outputs": [
    {
     "name": "stdout",
     "output_type": "stream",
     "text": [
      "   Name  Age\n",
      "0  Bibi    7\n",
      "1  Xuxu    5\n",
      "2  Kent   10\n"
     ]
    },
    {
     "data": {
      "text/plain": [
       "\"\\n- Khởi tạo một list tên lst2 gồm 3 phần tử. Mỗi phần tử là 1 list gồm 2 phần tử\\n- List con thứ nhất gồm 2 phần từ 'Bibi' và 7\\n- List con thứ hai gồm 2 phần tử 'Xuxu' và 5\\n- List con thứ ba gồm 2 phần tử 'Kent' và 10\\n- Gọi hàm DataFrame của pandas , truyền vào 2 tham số: list lst2, và truyền tham số cho index là 1 lst gồm 2 phần tử 'Name' và 'Age'\\n- Hàm trả về một biến DataFrame có 2 cột, 3 hàng\\n- 2 Cột 'Name', 'Age'\\n- Mỗi phần tử trong lst2 tương ứng với 1 hàng\\n\""
      ]
     },
     "execution_count": 19,
     "metadata": {},
     "output_type": "execute_result"
    }
   ],
   "source": [
    "# Data Frame\n",
    "lst2 = [['Bibi', 7], ['Xuxu', 5], ['Kent', 10]]\n",
    "df2 = pd.DataFrame(lst2, columns=['Name', 'Age'])\n",
    "print(df2)\n",
    "\"\"\"\n",
    "- Khởi tạo một list tên lst2 gồm 3 phần tử. Mỗi phần tử là 1 list gồm 2 phần tử\n",
    "- List con thứ nhất gồm 2 phần từ 'Bibi' và 7\n",
    "- List con thứ hai gồm 2 phần tử 'Xuxu' và 5\n",
    "- List con thứ ba gồm 2 phần tử 'Kent' và 10\n",
    "- Gọi hàm DataFrame của pandas , truyền vào 2 tham số: list lst2, và truyền tham số cho index là 1 lst gồm 2 phần tử 'Name' và 'Age'\n",
    "- Hàm trả về một biến DataFrame có 2 cột, 3 hàng\n",
    "- 2 Cột 'Name', 'Age'\n",
    "- Mỗi phần tử trong lst2 tương ứng với 1 hàng\n",
    "\"\"\"\n",
    "                                  "
   ]
  },
  {
   "cell_type": "code",
   "execution_count": 53,
   "id": "93ecbb85",
   "metadata": {},
   "outputs": [
    {
     "name": "stdout",
     "output_type": "stream",
     "text": [
      "The file opened succesfully\n"
     ]
    }
   ],
   "source": [
    "try:\n",
    "    fileptr = open(\"file.txt\", \"r\")\n",
    "except IOError:\n",
    "    print(\"File not found\")\n",
    "else:\n",
    "    print(\"The file opened succesfully\")\n",
    "    fileptr.close()"
   ]
  },
  {
   "cell_type": "code",
   "execution_count": 58,
   "id": "1dc38f87",
   "metadata": {},
   "outputs": [
    {
     "ename": "ZeroDivisionError",
     "evalue": "division by zero",
     "output_type": "error",
     "traceback": [
      "\u001b[31m---------------------------------------------------------------------------\u001b[39m",
      "\u001b[31mZeroDivisionError\u001b[39m                         Traceback (most recent call last)",
      "\u001b[36mCell\u001b[39m\u001b[36m \u001b[39m\u001b[32mIn[58]\u001b[39m\u001b[32m, line 3\u001b[39m\n\u001b[32m      1\u001b[39m \u001b[38;5;28;01mtry\u001b[39;00m:\n\u001b[32m      2\u001b[39m     x = \u001b[38;5;28mint\u001b[39m(\u001b[38;5;28minput\u001b[39m(\u001b[33m\"\u001b[39m\u001b[33mNhập một số: \u001b[39m\u001b[33m\"\u001b[39m))\n\u001b[32m----> \u001b[39m\u001b[32m3\u001b[39m     y = \u001b[32;43m10\u001b[39;49m\u001b[43m \u001b[49m\u001b[43m/\u001b[49m\u001b[43m \u001b[49m\u001b[43mx\u001b[49m\n\u001b[32m      4\u001b[39m \u001b[38;5;28;01mexcept\u001b[39;00m \u001b[38;5;167;01mValueError\u001b[39;00m:\n\u001b[32m      5\u001b[39m     \u001b[38;5;28mprint\u001b[39m(\u001b[33m\"\u001b[39m\u001b[33mBạn phải nhập một số nguyên hợp lệ.\u001b[39m\u001b[33m\"\u001b[39m)\n",
      "\u001b[31mZeroDivisionError\u001b[39m: division by zero"
     ]
    }
   ],
   "source": [
    "try:\n",
    "    x = int(input(\"Nhập một số: \"))\n",
    "    y = 10 / x\n",
    "except ValueError:\n",
    "    print(\"Bạn phải nhập một số nguyên hợp lệ.\")\n"
   ]
  },
  {
   "cell_type": "code",
   "execution_count": null,
   "id": "2bf8c5b6",
   "metadata": {},
   "outputs": [
    {
     "name": "stdout",
     "output_type": "stream",
     "text": [
      "file closed\n",
      "Error\n",
      "not writable\n"
     ]
    }
   ],
   "source": [
    "try:    \t    \n",
    "\tfileptr = open(\"file2.txt\",\"r\")      \n",
    "\ttry:    \n",
    "\t    fileptr.write(\"Hi I am good\")   # Ngoại lệ \n",
    "\tfinally:    \n",
    "\t    fileptr.close()    \n",
    "\t    print(\"file closed\")    \n",
    "except Exception as e:    \n",
    "\tprint(\"Error\")  \n",
    "\tprint(e)  \n"
   ]
  },
  {
   "cell_type": "code",
   "execution_count": null,
   "id": "afca7933",
   "metadata": {},
   "outputs": [
    {
     "name": "stdout",
     "output_type": "stream",
     "text": [
      "Loc nhun nhan vien co tuoi > 30\n",
      "      name   age\n",
      "3    Dung  55.0\n",
      "47  Trung  36.0\n"
     ]
    }
   ],
   "source": [
    "d = { 'name': pd.Series(['An', 'Hoa', 'Trung', 'Huy', 'Thanh', 'Dung'], index = [49, 48, 47, 1, 2, 3]),\n",
    "      'age': pd.Series([15, 22, 36, 27, 55], index = [49, 48, 47 ,1 ,3])\n",
    "      }\n",
    "df = pd.DataFrame(d, columns=['name',  'age'])\n",
    "print('Loc nhun nhan vien co tuoi > 30\\n', df.loc[df['age']>30] )\n",
    "# [df['age']>30] : Trả về index của các phần tử có giá trị > 30 theo cột age\n",
    "# df.loc : Truy suất các phần tử tương ứng với index được trả về "
   ]
  },
  {
   "cell_type": "code",
   "execution_count": 55,
   "id": "9d0c27bb",
   "metadata": {},
   "outputs": [
    {
     "data": {
      "text/plain": [
       "1     False\n",
       "2     False\n",
       "3      True\n",
       "47     True\n",
       "48    False\n",
       "49    False\n",
       "Name: age, dtype: bool"
      ]
     },
     "execution_count": 55,
     "metadata": {},
     "output_type": "execute_result"
    }
   ],
   "source": [
    "df['age'] > 30"
   ]
  }
 ],
 "metadata": {
  "kernelspec": {
   "display_name": "Python 3",
   "language": "python",
   "name": "python3"
  },
  "language_info": {
   "codemirror_mode": {
    "name": "ipython",
    "version": 3
   },
   "file_extension": ".py",
   "mimetype": "text/x-python",
   "name": "python",
   "nbconvert_exporter": "python",
   "pygments_lexer": "ipython3",
   "version": "3.13.5"
  }
 },
 "nbformat": 4,
 "nbformat_minor": 5
}
