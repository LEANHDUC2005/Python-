{
 "cells": [
  {
   "cell_type": "markdown",
   "id": "454a6941",
   "metadata": {},
   "source": [
    "NUMPY\n",
    "4.1Giới thiệu:\n",
    "-Là một thư viện bao gồm các đối tượng mảng đa chiều (multidimensional array) và một tập hợp các phương thức để xử lý mảng đa chiều đó.\n",
    "-Sử dụng Numpy, các toán tử toán học và logic có thể được thực hiện\n",
    "-Thay thế cho List\n",
    "-Cài đặt: pip install numpy\n",
    "4.2Ưu điểm :\n",
    "-Chứa bộ các giá trị\n",
    "-Có thể chứa các loại dữ liệu khác nhau\n",
    "-Có thể thay đổi, thêm, xóa\n",
    "-Đầy đủ chức năng tính toán\n",
    "-Rất nhiều thư viện được xây dựng sẵn trong Numpy\n"
   ]
  },
  {
   "cell_type": "code",
   "execution_count": null,
   "id": "852aa96d",
   "metadata": {},
   "outputs": [
    {
     "name": "stdout",
     "output_type": "stream",
     "text": [
      "[1 2 3]\n",
      "<class 'numpy.ndarray'>\n"
     ]
    }
   ],
   "source": [
    "#Tạo mảng một chiều trong numpy\n",
    "import numpy as np\n",
    "array_1 = np.array([1, 2, 3])\n",
    "print(array_1)\n",
    "print(type(array_1))\n",
    "\"\"\"\n",
    "- Nhập module numpy với tên np\n",
    "- Gọi hàm array của numpy , truyền vào tham số 1 list gồm 3 phần tử 1, 2, 3\n",
    "- Giá trị trả về của hàm array là một mảng numpy gán cho biến array_1\n",
    "- In mảng numpy array_1\n",
    "- In kiểu dữ liệu của mảng numpy array_1\n",
    "\"\"\"\n",
    "# Noted : np.array chỉ hoạt động với kiểu dữ liệu tuần tự có thứ tụ"
   ]
  },
  {
   "cell_type": "code",
   "execution_count": null,
   "id": "dadc2c14",
   "metadata": {},
   "outputs": [
    {
     "name": "stdout",
     "output_type": "stream",
     "text": [
      "[1 2 3]\n"
     ]
    }
   ],
   "source": [
    "# Từ list, tuple: sử dụng asarray()\n",
    "import numpy as np\n",
    "x = [1, 2, 3]\n",
    "a = np.asarray(x)\n",
    "print(a)\n",
    "\"\"\"\n",
    "- Nhập module numpy với tên np\n",
    "- Tạo 1 list x gồm 3 phần tử 1, 2, 3\n",
    "- Gọi hàm asarray của numpy , truyềng vào tham số là list x\n",
    "- Kết quả trả về của hàm asarray là 1 mảng numpy mới, được gán cho biến a\n",
    "- In a ra màn hình\n",
    "\"\"\""
   ]
  },
  {
   "cell_type": "code",
   "execution_count": null,
   "id": "a7454d25",
   "metadata": {},
   "outputs": [],
   "source": [
    "# Từ range: sử dụng numpy.arange(start, stop, step, dtype)\n",
    "mang_2 = np.arange(10, 20 ,2)\n",
    "print(mang_2)\n",
    "\"\"\"\n",
    "- Gọi hàm arange của numpy, truyền các vào tham số start = 10, stop = 20, step = 2\n",
    "- Giá trị của hàm là một mảng numpy có giá trị từ 10 đến trước 20, mỗi phần tử cách đều nhau 2 đơn vị gán cho biến mang_2\n",
    "- In mảng numpy mang_2\n",
    "\"\"\"\n",
    "# Noted : \n",
    "# Điểm yếu của arange: truyền vào tham số là float\n",
    "# Nguyên nhân : Sai lệch giá trị phần tử do sai số khi tính toán\n",
    "# Hệ quả : \n",
    "# Số lượng phần tử có thể không chính xác như mong đợi\n",
    "# Không chính xác trong việc kiểm tra sự tồn tại của một phần tử"
   ]
  },
  {
   "cell_type": "code",
   "execution_count": null,
   "id": "7a8a3e52",
   "metadata": {},
   "outputs": [],
   "source": []
  }
 ],
 "metadata": {
  "kernelspec": {
   "display_name": "aligner",
   "language": "python",
   "name": "python3"
  },
  "language_info": {
   "codemirror_mode": {
    "name": "ipython",
    "version": 3
   },
   "file_extension": ".py",
   "mimetype": "text/x-python",
   "name": "python",
   "nbconvert_exporter": "python",
   "pygments_lexer": "ipython3",
   "version": "3.11.12"
  }
 },
 "nbformat": 4,
 "nbformat_minor": 5
}
