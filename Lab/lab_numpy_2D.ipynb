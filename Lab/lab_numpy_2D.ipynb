{
 "cells": [
  {
   "cell_type": "markdown",
   "id": "ffaaddf0",
   "metadata": {},
   "source": [
    "4.4\tMảng nhiều chiều:\n",
    "4.4.1 Tạo mảng nhiều chiều:\n",
    "o\tTừ object có định dạng array: sử dụng array()\n"
   ]
  },
  {
   "cell_type": "code",
   "execution_count": 4,
   "id": "fad8e8ec",
   "metadata": {},
   "outputs": [
    {
     "name": "stdout",
     "output_type": "stream",
     "text": [
      "[[1 2 3]\n",
      " [4 5 6]]\n",
      "[[4 5 6]\n",
      " [1 2 3]]\n"
     ]
    }
   ],
   "source": [
    "import numpy as np\n",
    "# Tao mang\n",
    "array_2 = np.array([[1, 2, 3],[4, 5, 6]])\n",
    "print(array_2)\n",
    "\n",
    "print(array_2[::-1,:])\n",
    "\n"
   ]
  },
  {
   "cell_type": "markdown",
   "id": "15ec61e9",
   "metadata": {},
   "source": [
    "o\tCó giá trị mặc định là 0, 1: dùng zeros(), ones()"
   ]
  },
  {
   "cell_type": "code",
   "execution_count": 6,
   "id": "b8b6044b",
   "metadata": {},
   "outputs": [
    {
     "name": "stdout",
     "output_type": "stream",
     "text": [
      "Mang 0\n",
      "[[[0 0]\n",
      "  [0 0]]\n",
      "\n",
      " [[0 0]\n",
      "  [0 0]]]\n",
      "[[1 1]\n",
      " [1 1]]\n"
     ]
    }
   ],
   "source": [
    "mang_zeros = np.zeros([2, 2, 2], dtype = int)\n",
    "print(\"Mang 0\")\n",
    "print(mang_zeros)\n",
    "\n",
    "mang_ones = np.ones([2, 2], dtype = int)\n",
    "print(mang_ones)"
   ]
  },
  {
   "cell_type": "markdown",
   "id": "46b2457a",
   "metadata": {},
   "source": [
    "4.4.2 Thao tác trên mảng nhiều chiều:\n",
    "o\tSố dòng, cột trên mảng\n",
    " \n",
    "o\tCập nhật phần tử trong mảng\n",
    " \n",
    "o\tTruy xuất phần tử trên mảng: theo ma trận, dòng, cột (index = 0 -> chiều dài - 1)\n"
   ]
  },
  {
   "cell_type": "code",
   "execution_count": 7,
   "id": "2a203d9a",
   "metadata": {},
   "outputs": [
    {
     "name": "stdout",
     "output_type": "stream",
     "text": [
      "[[1 2 3]\n",
      " [4 5 6]]\n",
      "6\n",
      "[4 5 6]\n"
     ]
    }
   ],
   "source": [
    "# truy xuat phan tu trong mang\n",
    "print(array_2)\n",
    "print(array_2[1,2])\n",
    "print(array_2[1,])\n"
   ]
  },
  {
   "cell_type": "markdown",
   "id": "48c66851",
   "metadata": {},
   "source": [
    "o\tThay đổi kích cỡ mảng: dùng shape, reshape(số_lượng_ma_trận, số_dòng, số_cột)"
   ]
  },
  {
   "cell_type": "code",
   "execution_count": 12,
   "id": "4b342a7d",
   "metadata": {},
   "outputs": [
    {
     "name": "stdout",
     "output_type": "stream",
     "text": [
      "[[1 2]\n",
      " [3 4]\n",
      " [5 6]]\n",
      "(3, 2)\n",
      "[[1 2]\n",
      " [3 4]\n",
      " [5 6]]\n"
     ]
    }
   ],
   "source": [
    "print(array_2)\n",
    "print(array_2.shape)\n",
    "array_2.shape = (3,2)\n",
    "print(array_2)"
   ]
  },
  {
   "cell_type": "code",
   "execution_count": 14,
   "id": "d212e7fe",
   "metadata": {},
   "outputs": [
    {
     "name": "stdout",
     "output_type": "stream",
     "text": [
      "[ 0  1  2  3  4  5  6  7  8  9 10 11 12 13 14 15 16 17 18 19 20 21 22 23]\n",
      "[[[ 0  1  2  3]\n",
      "  [ 4  5  6  7]\n",
      "  [ 8  9 10 11]]\n",
      "\n",
      " [[12 13 14 15]\n",
      "  [16 17 18 19]\n",
      "  [20 21 22 23]]]\n",
      "6\n"
     ]
    }
   ],
   "source": [
    "# thay doi kich co mang dung reshape\n",
    "a = np.arange(24)\n",
    "print(a)\n",
    "\n",
    "b = a.reshape(2, 3, 4) # ma tran, dong ,cot\n",
    "print(b)\n",
    "print(b[0][1][2])"
   ]
  },
  {
   "cell_type": "markdown",
   "id": "812dbb13",
   "metadata": {},
   "source": [
    "o\tTìm max, min: sử dụng amax(), amin()"
   ]
  },
  {
   "cell_type": "code",
   "execution_count": 22,
   "id": "5ed02ebf",
   "metadata": {},
   "outputs": [
    {
     "name": "stdout",
     "output_type": "stream",
     "text": [
      "[[3 7 2]\n",
      " [4 5 9]\n",
      " [8 3 6]]\n",
      "Max: 9\n",
      "Min: 2\n",
      "Max - theo tung cot [8 7 9]\n",
      "Max - theo tung cot [3 3 2]\n",
      "Max - theo tung dong [7 9 8]\n",
      "Max - theo tung dong [2 4 3]\n"
     ]
    }
   ],
   "source": [
    "a = np.array([[3, 7, 2],\n",
    "              [4, 5, 9],\n",
    "              [8, 3, 6]])\n",
    "print(a)\n",
    "print(\"Max:\", np.amax(a))\n",
    "print(\"Min:\", np.amin(a))\n",
    "print(\"Max - theo tung cot\", np.amax(a, 0))\n",
    "print(\"Max - theo tung cot\", np.amin(a, 0))\n",
    "print(\"Max - theo tung dong\", np.amax(a, 1))\n",
    "print(\"Max - theo tung dong\", np.amin(a, 1))\n"
   ]
  },
  {
   "cell_type": "markdown",
   "id": "a34c1854",
   "metadata": {},
   "source": [
    "o\tGiá trị trung bình số học: sử dụng mean()"
   ]
  },
  {
   "cell_type": "code",
   "execution_count": 23,
   "id": "79a92c4d",
   "metadata": {},
   "outputs": [
    {
     "name": "stdout",
     "output_type": "stream",
     "text": [
      "[[[3 7]\n",
      "  [8 4]]\n",
      "\n",
      " [[2 4]\n",
      "  [1 5]]]\n",
      "Mean b:\n",
      "4.25\n",
      "Mean b[0]:\n",
      "5.5\n"
     ]
    }
   ],
   "source": [
    "b = np.array([  [ [3, 7], [8, 4] ], [ [2, 4], [1, 5] ]  ])\n",
    "print(b)\n",
    "print(\"Mean b:\")\n",
    "print(np.mean(b))\n",
    "print(\"Mean b[0]:\")\n",
    "print(np.mean(b[0]))"
   ]
  },
  {
   "cell_type": "code",
   "execution_count": 24,
   "id": "f620dbe7",
   "metadata": {},
   "outputs": [
    {
     "name": "stdout",
     "output_type": "stream",
     "text": [
      "[[[3 7]\n",
      "  [8 4]]\n",
      "\n",
      " [[2 4]\n",
      "  [1 5]]]\n",
      "Median b:\n",
      "4.0\n",
      "Median b[1]:\n",
      "3.0\n"
     ]
    }
   ],
   "source": [
    "print(b)\n",
    "print(\"Median b:\")\n",
    "print(np.median(b))\n",
    "print(\"Median b[1]:\")\n",
    "print(np.median(b[1]))"
   ]
  },
  {
   "cell_type": "code",
   "execution_count": 25,
   "id": "212a4f8e",
   "metadata": {},
   "outputs": [
    {
     "name": "stdout",
     "output_type": "stream",
     "text": [
      "[[[9 7]\n",
      "  [8 4]]\n",
      "\n",
      " [[2 4]\n",
      "  [6 5]]]\n",
      "Sort c\n",
      "[[[7 9]\n",
      "  [4 8]]\n",
      "\n",
      " [[2 4]\n",
      "  [5 6]]]\n"
     ]
    }
   ],
   "source": [
    "c = np.array([ [ [9,7],[8,4] ], [ [2,4], [6,5] ] ])\n",
    "print(c)\n",
    "print(\"Sort c\")\n",
    "print(np.sort(c))\n"
   ]
  },
  {
   "cell_type": "code",
   "execution_count": 27,
   "id": "80f35722",
   "metadata": {},
   "outputs": [
    {
     "name": "stdout",
     "output_type": "stream",
     "text": [
      "Sort c[0] axis 1 ( theo dong ):\n",
      "[[7 9]\n",
      " [4 8]]\n"
     ]
    }
   ],
   "source": [
    "print(\"Sort c[0] axis 1 ( theo dong ):\")\n",
    "print(np.sort(c[0], axis = 1))"
   ]
  },
  {
   "cell_type": "code",
   "execution_count": 28,
   "id": "84bfc9b4",
   "metadata": {},
   "outputs": [
    {
     "name": "stdout",
     "output_type": "stream",
     "text": [
      "Sort c[0] axis 0 ( theo cot ):\n",
      "[[8 4]\n",
      " [9 7]]\n"
     ]
    }
   ],
   "source": [
    "print(\"Sort c[0] axis 0 ( theo cot ):\")\n",
    "print(np.sort(c[0], axis = 0))"
   ]
  },
  {
   "cell_type": "markdown",
   "id": "b6ed6f58",
   "metadata": {},
   "source": [
    "o\tTìm index của các phần tử trong mảng thỏa điều kiện: sử dụng where()"
   ]
  },
  {
   "cell_type": "code",
   "execution_count": null,
   "id": "b14acd88",
   "metadata": {},
   "outputs": [
    {
     "name": "stdout",
     "output_type": "stream",
     "text": [
      "[[[9 7]\n",
      "  [8 4]]\n",
      "\n",
      " [[2 4]\n",
      "  [6 5]]]\n",
      "(array([0, 0, 0, 1]), array([0, 0, 1, 1]), array([0, 1, 0, 0]))\n",
      "[9 7 8 6]\n"
     ]
    }
   ],
   "source": [
    "print(c)\n",
    "cond = np.where(c > 5)\n",
    "print(cond)\n",
    "print(c[cond])\n",
    "# (array([0, 0, 0, 1]), array([0, 0, 1, 1]), array([0, 1, 0, 0]))\n",
    "#  array([ khoi , dong , cot, ])\n",
    "# [9 7 8 6]"
   ]
  },
  {
   "cell_type": "code",
   "execution_count": 30,
   "id": "225d1be4",
   "metadata": {},
   "outputs": [
    {
     "name": "stdout",
     "output_type": "stream",
     "text": [
      "[[[9 7]\n",
      "  [8 4]]\n",
      "\n",
      " [[2 4]\n",
      "  [6 5]]]\n",
      "Tren c: [9 7 8 6 5]\n",
      "Tren c[0]: [9 7 8]\n"
     ]
    }
   ],
   "source": [
    "print(c)\n",
    "print(\"Tren c:\", np.extract( c >= 5,c ))\n",
    "print(\"Tren c[0]:\", np.extract( c[0] >= 5, c[0] ))"
   ]
  }
 ],
 "metadata": {
  "kernelspec": {
   "display_name": "Python 3",
   "language": "python",
   "name": "python3"
  },
  "language_info": {
   "codemirror_mode": {
    "name": "ipython",
    "version": 3
   },
   "file_extension": ".py",
   "mimetype": "text/x-python",
   "name": "python",
   "nbconvert_exporter": "python",
   "pygments_lexer": "ipython3",
   "version": "3.13.5"
  }
 },
 "nbformat": 4,
 "nbformat_minor": 5
}
