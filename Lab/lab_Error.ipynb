{
 "cells": [
  {
   "cell_type": "code",
   "execution_count": 13,
   "id": "16a2ce46",
   "metadata": {},
   "outputs": [
    {
     "name": "stdout",
     "output_type": "stream",
     "text": [
      "a/b = 2\n",
      "Le Anh Duc\n",
      "Hi I am other part of the program\n"
     ]
    }
   ],
   "source": [
    "a = int(input(\"Enter a:\"))    \n",
    "b = int(input(\"Enter b:\"))    \n",
    "c = a/b  \n",
    "print(\"a/b = %d\" %c)  \n",
    "print(\"Le Anh Duc\")  \n",
    "#other code:    \n",
    "print(\"Hi I am other part of the program\")  \n"
   ]
  },
  {
   "cell_type": "code",
   "execution_count": null,
   "id": "f4244d04",
   "metadata": {},
   "outputs": [
    {
     "name": "stdout",
     "output_type": "stream",
     "text": [
      "Hi I am other part of the program\n",
      "Le Anh Duc\n",
      "a/b = 5\n",
      "Passed\n",
      "Hello\n"
     ]
    }
   ],
   "source": [
    "try:\n",
    "    a = int(input(\"Enter a:\"))    \n",
    "    b = int(input(\"Enter b:\"))   \n",
    "    c = a/b  \n",
    "    print(\"Hi I am other part of the program\")   \n",
    "    print(\"Le Anh Duc\") \n",
    "    print(\"a/b = %d\" %c)  \n",
    "except ZeroDivisionError:\n",
    "    print(\"Can divide by zero\")\n",
    "else:\n",
    "    print(\"Passed\")\n",
    "\n",
    "print(\"Hello\")"
   ]
  },
  {
   "cell_type": "code",
   "execution_count": 39,
   "id": "4fd8b7ed",
   "metadata": {},
   "outputs": [
    {
     "name": "stdout",
     "output_type": "stream",
     "text": [
      "c is undeclared \n",
      "Normal Line\n"
     ]
    }
   ],
   "source": [
    "try:\n",
    "    a = int(input(\"Enter a:\"))\n",
    "    b = int(input(\"Enter b:\"))\n",
    "    print(\"a/b = %d\"%c)\n",
    "    c = a/b\n",
    "    # Neu phat sinh ngoai le : ngung try : c = a/b -> chuyen sang except\n",
    "    print(\"Hello World\")\n",
    "except ZeroDivisionError:\n",
    "    print(\"Can't divide by zero\")\n",
    "    print(Exception)\n",
    "except NameError:\n",
    "    print(\"c is undeclared \")\n",
    "else:\n",
    "    print(\"Hi I am else block\")\n",
    "print(\"Normal Line\")"
   ]
  },
  {
   "cell_type": "code",
   "execution_count": 6,
   "id": "38cb9bb0",
   "metadata": {},
   "outputs": [
    {
     "name": "stdout",
     "output_type": "stream",
     "text": [
      "File opened succesfully\n"
     ]
    }
   ],
   "source": [
    "try:\n",
    "    fileptr = open(\"file.txt\",\"r\")\n",
    "except IOError:\n",
    "    print(\"File is not found\")\n",
    "else:\n",
    "    print(\"File opened succesfully\")\n",
    "    fileptr.close()\n",
    "    "
   ]
  },
  {
   "cell_type": "code",
   "execution_count": 8,
   "id": "59930b3b",
   "metadata": {},
   "outputs": [
    {
     "name": "stdout",
     "output_type": "stream",
     "text": [
      "Arithmetic Exception\n"
     ]
    }
   ],
   "source": [
    "try:\n",
    "    a=10/0;\n",
    "except(ArithmeticError,IOError):\n",
    "    print(\"Arithmetic Exception\")\n",
    "else:\n",
    "    print(\"Succesfully Done\")"
   ]
  },
  {
   "cell_type": "code",
   "execution_count": null,
   "id": "8d13172c",
   "metadata": {},
   "outputs": [
    {
     "name": "stdout",
     "output_type": "stream",
     "text": [
      "file closed\n",
      "Error\n"
     ]
    }
   ],
   "source": [
    "try:\n",
    "    fileptr = open(\"file2.txt\", \"r\")\n",
    "    try: \n",
    "        fileptr.write(\"Hi I am good\")\n",
    "    finally:\n",
    "        fileptr.close()\n",
    "        print(\"file closed\")\n",
    "except:\n",
    "    print(\"Error\")\n",
    "else:\n",
    "    print(\"No Error\")\n"
   ]
  },
  {
   "cell_type": "code",
   "execution_count": 8,
   "id": "59d7164c",
   "metadata": {},
   "outputs": [
    {
     "name": "stdout",
     "output_type": "stream",
     "text": [
      "The age is not valid\n"
     ]
    }
   ],
   "source": [
    "try:\n",
    "    age = int(input(\"Enter the age:\"))\n",
    "    if ( age < 18 ):    \n",
    "        raise ValueError\n",
    "    else:\n",
    "        print(\"The age is valid\")\n",
    "except Exception:\n",
    "    print(\"The age is not valid\")"
   ]
  },
  {
   "cell_type": "code",
   "execution_count": null,
   "id": "69736ebc",
   "metadata": {},
   "outputs": [],
   "source": []
  },
  {
   "cell_type": "code",
   "execution_count": null,
   "id": "22a10106",
   "metadata": {},
   "outputs": [],
   "source": []
  }
 ],
 "metadata": {
  "kernelspec": {
   "display_name": "Python 3",
   "language": "python",
   "name": "python3"
  },
  "language_info": {
   "codemirror_mode": {
    "name": "ipython",
    "version": 3
   },
   "file_extension": ".py",
   "mimetype": "text/x-python",
   "name": "python",
   "nbconvert_exporter": "python",
   "pygments_lexer": "ipython3",
   "version": "3.13.5"
  }
 },
 "nbformat": 4,
 "nbformat_minor": 5
}
