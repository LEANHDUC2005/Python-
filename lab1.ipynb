{
 "cells": [
  {
   "cell_type": "code",
   "execution_count": 1,
   "id": "8691b955",
   "metadata": {},
   "outputs": [
    {
     "name": "stdout",
     "output_type": "stream",
     "text": [
      "Good morning!\n",
      "\n"
     ]
    }
   ],
   "source": [
    "#Bai1\n",
    "print(\"Good morning!\\n\")"
   ]
  },
  {
   "cell_type": "code",
   "execution_count": 3,
   "id": "08e68764",
   "metadata": {},
   "outputs": [
    {
     "name": "stdout",
     "output_type": "stream",
     "text": [
      "Ho ten : Le Anh Duc, MSSV: 23701131\n"
     ]
    }
   ],
   "source": [
    "#Bai2\n",
    "SV = input(\"Nhap ten sinh vien:\")\n",
    "MSSV = input(\"Nhap MSSV\")\n",
    "print(f\"Ho ten : {SV}, MSSV: {MSSV}\")"
   ]
  },
  {
   "cell_type": "code",
   "execution_count": 5,
   "id": "8aa92164",
   "metadata": {},
   "outputs": [
    {
     "name": "stdout",
     "output_type": "stream",
     "text": [
      "a + b = 3\n",
      "a - b = -1\n",
      "a * b = 2\n",
      "a / b = 0.5\n"
     ]
    }
   ],
   "source": [
    "#Bai3\n",
    "a = 1; b = 2\n",
    "print(f\"a + b = {a + b}\")\n",
    "print(f\"a - b = {a - b}\")\n",
    "print(f\"a * b = {a * b}\")\n",
    "print(f\"a / b = {a / b}\")"
   ]
  },
  {
   "cell_type": "code",
   "execution_count": null,
   "id": "dcec5dc6",
   "metadata": {},
   "outputs": [
    {
     "name": "stdout",
     "output_type": "stream",
     "text": [
      "Chu vi hinh tron:31.400000000000002\n",
      "Dien tich hinh tron:78.5\n"
     ]
    }
   ],
   "source": [
    "#Bai4\n",
    "R = int(input(\"Nhap ban kinh hinh tron:\"))\n",
    "print(f\"Chu vi hinh tron: { float(2 * R * 3.14) }\")\n",
    "print(f\"Dien tich hinh tron: { float(3.14 * pow(R,2))}\")"
   ]
  },
  {
   "cell_type": "code",
   "execution_count": null,
   "id": "06fb33e3",
   "metadata": {},
   "outputs": [
    {
     "name": "stdout",
     "output_type": "stream",
     "text": [
      "Duc Anh  Le\n"
     ]
    }
   ],
   "source": [
    "#Bai 5\n",
    "Ho = input(\"Nhap ho.:\")\n",
    "tenDem = input(\"Nhap ten dem:\")\n",
    "Ten = input(\"Nhap ten:\")\n",
    "print(f\"{Ten} {tenDem} {Ho}\")"
   ]
  },
  {
   "cell_type": "code",
   "execution_count": 14,
   "id": "b5dbb9bd",
   "metadata": {},
   "outputs": [
    {
     "name": "stdout",
     "output_type": "stream",
     "text": [
      "Khoang cach tu diem A den B : 2.83\n"
     ]
    }
   ],
   "source": [
    "#6. Viết chương trình Python tính khoảng cách từ điểm (x1,y1) đến điểm (x2,y2)\n",
    "import math\n",
    "x1 = int(input(\"Nhap hoanh do diem A:\"))\n",
    "y1 = int(input(\"Nhap tung do diem A\"))\n",
    "x2 = int(input(\"Nhap hoang do cua diem B\"))\n",
    "y2 = int(input(\"Nhap tung ho cua diem B\"))\n",
    "d = math.sqrt( pow( x2 - x1, 2) + pow(y2 - y1, 2) ) \n",
    "print(f\"Khoang cach tu diem A den B : {round(d,2)}\")"
   ]
  },
  {
   "cell_type": "code",
   "execution_count": null,
   "id": "09aac566",
   "metadata": {},
   "outputs": [
    {
     "name": "stdout",
     "output_type": "stream",
     "text": [
      "94\n"
     ]
    }
   ],
   "source": [
    "#7. Viết chương trình Python tính tổng các phần tử số trong mảng cho trước gồm cả ký tự và số.\n",
    "Arr = {1,'a',2,'d',4,'f',6,'g',10,12,59,'t'}\n",
    "sum = 0\n",
    "for i in Arr:\n",
    "    if isinstance(i, (int,float)):\n",
    "        sum+= i\n",
    "print(f\"{sum}\")"
   ]
  },
  {
   "cell_type": "code",
   "execution_count": null,
   "id": "8f59ad5a",
   "metadata": {},
   "outputs": [
    {
     "name": "stdout",
     "output_type": "stream",
     "text": [
      "3628800\n"
     ]
    }
   ],
   "source": [
    "#8. Viết công thức tính n! và in kết quả ra màn hình. Giá trị n cho trước trong một biến.\n",
    "n = int(input(\"Nhap n:\"))\n",
    "result = 1\n",
    "for i in range(1,n+1):\n",
    "    result*=i\n",
    "print(result)"
   ]
  },
  {
   "cell_type": "code",
   "execution_count": 34,
   "id": "b4a62e19",
   "metadata": {},
   "outputs": [
    {
     "name": "stdout",
     "output_type": "stream",
     "text": [
      "x1 = 1.0 \n",
      "x2 = -3.0 \n"
     ]
    }
   ],
   "source": [
    "#9. Viết chương trình tìm nghiệm của phương trình bậc 2. Các hệ số của phương trình bậc 2 được khai\n",
    "import math\n",
    "a = int(input(\"Nhap a:\"))\n",
    "b = int(input(\"Nhap b:\"))\n",
    "c = int(input(\"Nhap c:\"))\n",
    "# Truong hop dac biet \n",
    "delta = pow(b,2) - ( 4 * a * c )\n",
    "if ( delta < 0 ):\n",
    "    print(\"Vo nghiem\")\n",
    "elif ( delta == 0 ):\n",
    "    print(f\"x1 = x1 = {-b/(2 * a)}\")\n",
    "else:\n",
    "    print(f\"x1 = { round( ( (-b) + math.sqrt(delta) ) / ( 2 * a ) , 2)} \")\n",
    "    print(f\"x2 = { round( ( (-b) - math.sqrt(delta) ) / ( 2 * a ) , 2)} \")"
   ]
  },
  {
   "cell_type": "code",
   "execution_count": null,
   "id": "cd4b9d83",
   "metadata": {},
   "outputs": [
    {
     "ename": "_IncompleteInputError",
     "evalue": "incomplete input (1134167154.py, line 15)",
     "output_type": "error",
     "traceback": [
      "  \u001b[36mCell\u001b[39m\u001b[36m \u001b[39m\u001b[32mIn[35]\u001b[39m\u001b[32m, line 15\u001b[39m\n\u001b[31m    \u001b[39m\n    ^\n\u001b[31m_IncompleteInputError\u001b[39m\u001b[31m:\u001b[39m incomplete input\n"
     ]
    }
   ],
   "source": [
    "\n",
    "##10. Viết chương trình Python tính toán số ngày dựa trên ngày tháng năm\n",
    "\n",
    "##Ngày tháng cho : (01, 12, 2020), (12, 12, 2020)\n",
    "\n",
    "##Kết quả mong muốn : 12 ngày\n",
    "day_1 = int(input(\"Nhap ngay (DD):\"))\n",
    "month_1 = int(input(\"Nhap thang (MM):\"))\n",
    "year_1 = int(input(\"Nhap nam (YYYY):\"))\n",
    "day_2 = int(input(\"Nhap ngay (DD):\"))\n",
    "month_2 = int(input(\"Nhap thang (MM):\"))\n",
    "year_2 = int(input(\"Nhap nam (YYYY):\"))\n",
    "# Chuan hoa\n",
    "def YeartoDay(year):\n",
    "    if( year % 400 == 0 ) or ( year % 4 == 0 and not year % 100 == 0):\n",
    "        return 366\n",
    "    else:\n",
    "        return 365\n",
    "def MonthtoDay(month, year):\n",
    "    if(month == 2):\n",
    "        if(YeartoDay(year) == 366): \n",
    "            return 29\n",
    "        else: return 28\n",
    "    elif( month in (4,6,9,11)): return 30\n",
    "    else: return 31\n",
    "# Doi ngay thang nam ra ngay\n",
    "total_1 = YeartoDay(year_1) + MonthtoDay(month_1) + day_1\n",
    "total_2 = YeartoDay(year_2) + MonthtoDay(month_2) + day_2\n",
    "result = total_1 - total_2\n",
    "if result < 0: result = -result\n",
    "# In ket qua\n",
    "print(f\"So ngay: {result}\")\n",
    "\n",
    "\n",
    "\n",
    "\n"
   ]
  },
  {
   "cell_type": "code",
   "execution_count": null,
   "id": "b917985c",
   "metadata": {},
   "outputs": [
    {
     "name": "stdout",
     "output_type": "stream",
     "text": [
      "n la so chan!\n"
     ]
    }
   ],
   "source": [
    "#11. Viết chương trình Python in ra màn hình số cho trước là số chẵn hay số lẻ.\n",
    "def isEvenofOdd(i):\n",
    "    if( i % 2 == 0 ):\n",
    "        return True\n",
    "    else: \n",
    "        return False\n",
    "n = int(input(\"Nhap so n:\"))\n",
    "if isEvenofOdd(n):\n",
    "    print(\"n la so chan!\")\n",
    "else:\n",
    "    print(\"n la so le!\")"
   ]
  },
  {
   "cell_type": "code",
   "execution_count": 42,
   "id": "33248b1f",
   "metadata": {},
   "outputs": [
    {
     "name": "stdout",
     "output_type": "stream",
     "text": [
      "2\n"
     ]
    }
   ],
   "source": [
    "#12. Viết chương trình Python chỉ in ra màn hình số chẵn trong một chuỗi cho trước.\n",
    "def isEven(i):\n",
    "    if( i % 2 == 0 ):\n",
    "        return True\n",
    "    else: \n",
    "        return False\n",
    "string = \"Trường ĐH Công Nghiệp Tp. HCM Khoa Công Nghệ Điện Tử Giáo trình thực hành python Bộ Môn Máy Tính 27\"\n",
    "for i in string:\n",
    "    if i.isdigit():\n",
    "        if isEven(int(i)):\n",
    "            print(f\"{i}\")"
   ]
  },
  {
   "cell_type": "code",
   "execution_count": null,
   "id": "81e3b31e",
   "metadata": {},
   "outputs": [
    {
     "name": "stdout",
     "output_type": "stream",
     "text": [
      "[1, 5, 6, 8, 23, 68, 1214, 5661]\n"
     ]
    }
   ],
   "source": [
    "#13. Viết chương trình Python sắp xếp thứ tự các phần tử trong mảng theo thứ tự tăng dần\n",
    "Arr =  [1,5,6,8,23,5661,1214,68]\n",
    "for i in range(len(Arr)):\n",
    "    min = i\n",
    "    for j in range(i+1, len(Arr)):\n",
    "        if (Arr[j] < Arr[min]):\n",
    "            min = j\n",
    "    if ( not min == i ):\n",
    "        temp = Arr[min]\n",
    "        Arr[min] = Arr[i]\n",
    "        Arr[i] = temp\n",
    "print(Arr)"
   ]
  },
  {
   "cell_type": "code",
   "execution_count": 45,
   "id": "de56fe80",
   "metadata": {},
   "outputs": [
    {
     "name": "stdout",
     "output_type": "stream",
     "text": [
      "[1000, 120, 68, 59, 5, 4, 3, -4, -56, -121]\n"
     ]
    }
   ],
   "source": [
    "#14. Viết chương trình Python sắp xếp thứ tự các phần tử trong mảng theo thứ tự giảm dần\n",
    "Arr = [4, 5, 68, 120, 3, -4, 59, -121, -56, 1000]\n",
    "for i in range(len(Arr)-1):\n",
    "    for j in range( i + 1, len(Arr)):\n",
    "        if Arr[i] < Arr[j]:\n",
    "            temp = Arr[i]\n",
    "            Arr[i] = Arr[j]\n",
    "            Arr[j] = temp\n",
    "print(Arr)"
   ]
  },
  {
   "cell_type": "code",
   "execution_count": 47,
   "id": "d8f27e4b",
   "metadata": {},
   "outputs": [
    {
     "name": "stdout",
     "output_type": "stream",
     "text": [
      "1000\n"
     ]
    }
   ],
   "source": [
    "# 15. Viết chương trình Python tìm số lớn nhất trong một dãy số cho trước.\n",
    "Arr = [4, 5, 68, 120, 3, -4, 59, -121, -56, 1000]\n",
    "def max(Arr , n):\n",
    "    if( n == 0 ): return Arr[0]\n",
    "    Max = max(Arr, n-1)\n",
    "    if Arr[n-1] > Max: return Arr[n-1]\n",
    "    else: return Max\n",
    "result = max(Arr, len(Arr))\n",
    "print(result)"
   ]
  },
  {
   "cell_type": "code",
   "execution_count": 48,
   "id": "3c15d1f4",
   "metadata": {},
   "outputs": [
    {
     "name": "stdout",
     "output_type": "stream",
     "text": [
      "-121\n"
     ]
    }
   ],
   "source": [
    "# 16. Viết chương trình Python tìm số nhỏ nhất trong một dãy số cho trước\n",
    "Arr = [4, 5, 68, 120, 3, -4, 59, -121, -56, 1000]\n",
    "min = Arr[0]\n",
    "for i in range(1, len(Arr)):\n",
    "    if ( Arr[i] < min ):\n",
    "        min = Arr[i]\n",
    "print(min)"
   ]
  },
  {
   "cell_type": "code",
   "execution_count": 49,
   "id": "b4fcc082",
   "metadata": {},
   "outputs": [
    {
     "name": "stdout",
     "output_type": "stream",
     "text": [
      "120\n"
     ]
    }
   ],
   "source": [
    "# 17. Viết chương trình Python tìm số lớn thứ 2 trong một dãy số cho trước\n",
    "Arr = [4, 5, 68, 120, 3, -4, 59, -121, -56, 1000]\n",
    "Top = [-1,-1]\n",
    "for i in range(len(Arr)):\n",
    "    if( Top[0] == -1 or Arr[i] > Arr[Top[0]]):\n",
    "        Top[1] = Top[0]\n",
    "        Top[0] = i\n",
    "    if( Top[1] == -1 or ( Arr[i] > Arr[Top[1]] and Arr[i] < Arr[Top[0]]) ):\n",
    "        Top[1] = i\n",
    "print(Arr[Top[1]])\n"
   ]
  },
  {
   "cell_type": "code",
   "execution_count": 3,
   "id": "370e7240",
   "metadata": {},
   "outputs": [
    {
     "name": "stdout",
     "output_type": "stream",
     "text": [
      "120\n"
     ]
    }
   ],
   "source": [
    "# 17. Viết chương trình Python tìm số lớn thứ 2 trong một dãy số cho trước\n",
    "Arr = [4, 5, 68, 120, 3, -4, 59, -121, -56, 1000]\n",
    "Arr.sort( reverse = True ) #Sap xep giam dan\n",
    "print(Arr[1])"
   ]
  },
  {
   "cell_type": "code",
   "execution_count": 4,
   "id": "5c60dbfe",
   "metadata": {},
   "outputs": [
    {
     "name": "stdout",
     "output_type": "stream",
     "text": [
      "-56\n"
     ]
    }
   ],
   "source": [
    "#18. Viết chương trình Python tìm số nhỏ thứ 2 trong một dãy số cho trước.\n",
    "Arr = [4, 5, 68, 120, 3, -4, 59, -121, -56, 1000]\n",
    "Arr.sort( reverse = False ) #Sap xep giam dan\n",
    "print(Arr[1])"
   ]
  },
  {
   "cell_type": "code",
   "execution_count": null,
   "id": "9fc5eb82",
   "metadata": {},
   "outputs": [],
   "source": [
    "#19. Viết chương trình Python in ra các ký tự khác nhau trong một chuỗi ký tự cho trước. Cho biết các\n",
    "# ký tự được lặp lại bao nhiêu lần.\n"
   ]
  },
  {
   "cell_type": "code",
   "execution_count": 10,
   "id": "64e3cb40",
   "metadata": {},
   "outputs": [
    {
     "name": "stdout",
     "output_type": "stream",
     "text": [
      "9\n"
     ]
    }
   ],
   "source": [
    "# 20. Viết chương trình Python tính tổng các số có trong mảng với điều kiện số đó nhỏ hơn một số cho\n",
    "# trước.\n",
    "# Mảng cho trước : (2,3,4,5,6,7)\n",
    "# Điều kiện: 5\n",
    "Arr = [2,3,4,5,6,7]\n",
    "def sumDK( Arr , lenArr , n ):\n",
    "    check = 0\n",
    "    if ( lenArr == 0 ): return 0\n",
    "    if ( Arr[lenArr-1] < n ) : check = Arr[lenArr-1]\n",
    "    else : check = 0\n",
    "    return check + sumDK(Arr, lenArr - 1, n)\n",
    "print(sumDK(Arr, len(Arr) , 5))"
   ]
  },
  {
   "cell_type": "code",
   "execution_count": null,
   "id": "51a391ea",
   "metadata": {},
   "outputs": [
    {
     "name": "stdout",
     "output_type": "stream",
     "text": [
      "2\n",
      "3\n",
      "5\n",
      "7\n",
      "11\n",
      "13\n",
      "17\n",
      "19\n",
      "23\n",
      "29\n"
     ]
    }
   ],
   "source": [
    "# 21. Cho trước số nguyên N. In ra màn hình các số nguyên tố nhỏ hơn N.\n",
    "def checkEle(n):\n",
    "    for i in range(2, n):\n",
    "        if ( n % i == 0 ): return 0\n",
    "    return 1\n",
    "def Eledigit(n):\n",
    "    for i in range(2, n):\n",
    "        if ( checkEle(i) ) : print(i)\n",
    "n = int(input(\"Nhap so n:\"))\n",
    "Eledigit(n)"
   ]
  },
  {
   "cell_type": "code",
   "execution_count": 18,
   "id": "c7721985",
   "metadata": {},
   "outputs": [
    {
     "name": "stdout",
     "output_type": "stream",
     "text": [
      "2\n",
      "3\n",
      "5\n",
      "7\n",
      "11\n",
      "13\n",
      "17\n",
      "19\n",
      "23\n",
      "29\n",
      "31\n",
      "37\n",
      "41\n",
      "43\n",
      "47\n",
      "53\n",
      "59\n",
      "61\n",
      "67\n",
      "71\n",
      "73\n",
      "79\n",
      "83\n",
      "89\n",
      "97\n",
      "101\n",
      "103\n",
      "107\n",
      "109\n",
      "113\n",
      "127\n",
      "131\n",
      "137\n",
      "139\n",
      "149\n",
      "151\n",
      "157\n",
      "163\n",
      "167\n",
      "173\n",
      "179\n",
      "181\n",
      "191\n",
      "193\n",
      "197\n",
      "199\n",
      "211\n",
      "223\n",
      "227\n",
      "229\n",
      "233\n",
      "239\n",
      "241\n",
      "251\n",
      "257\n",
      "263\n",
      "269\n",
      "271\n",
      "277\n",
      "281\n",
      "283\n",
      "293\n",
      "307\n",
      "311\n",
      "313\n",
      "317\n",
      "331\n",
      "337\n",
      "347\n",
      "349\n",
      "353\n",
      "359\n",
      "367\n",
      "373\n",
      "379\n",
      "383\n",
      "389\n",
      "397\n",
      "401\n",
      "409\n",
      "419\n",
      "421\n",
      "431\n",
      "433\n",
      "439\n",
      "443\n",
      "449\n",
      "457\n",
      "461\n",
      "463\n",
      "467\n",
      "479\n",
      "487\n",
      "491\n",
      "499\n"
     ]
    }
   ],
   "source": [
    "# 22. Cho trước số nguyên N và M. Tính tổng và in ra màn hình các số nguyên tố lớn hơn N và nhỏ hơn\n",
    "# M\n",
    "import math\n",
    "def isPrime(n):\n",
    "    if ( n in (0,1) ): return 0\n",
    "    for i in range(2, int(math.sqrt(n)+1)):\n",
    "        if ( n % i == 0 ): return 0\n",
    "    return 1\n",
    "def EleDigitinCondition(N, M):\n",
    "    for i  in range(N+1 , M):\n",
    "            if ( isPrime(i) ) : print(i)\n",
    "EleDigitinCondition(1,500)"
   ]
  },
  {
   "cell_type": "code",
   "execution_count": 22,
   "id": "19cf81ad",
   "metadata": {},
   "outputs": [
    {
     "name": "stdout",
     "output_type": "stream",
     "text": [
      "14\n",
      "42.0\n"
     ]
    }
   ],
   "source": [
    "# 23. Cho trước số nguyên N và M. Tìm các giá trị bội chung nhỏ nhất và ước chung lớn nhất . In 2 kết\n",
    "# quả tìm được ra màn hình.\n",
    "def GCD(N,M):\n",
    "    if ( M == 0 ) : return N\n",
    "    return GCD(M, N%M)\n",
    "N = int(input(\"Nhap so N\"))\n",
    "M = int(input(\"Nhap so M\"))\n",
    "print(GCD(N, M))\n",
    "BCNN = ( N * M ) / GCD(N,M)\n",
    "print(BCNN)"
   ]
  }
 ],
 "metadata": {
  "kernelspec": {
   "display_name": "Python 3",
   "language": "python",
   "name": "python3"
  },
  "language_info": {
   "codemirror_mode": {
    "name": "ipython",
    "version": 3
   },
   "file_extension": ".py",
   "mimetype": "text/x-python",
   "name": "python",
   "nbconvert_exporter": "python",
   "pygments_lexer": "ipython3",
   "version": "3.13.5"
  }
 },
 "nbformat": 4,
 "nbformat_minor": 5
}
