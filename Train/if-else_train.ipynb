{
 "cells": [
  {
   "cell_type": "markdown",
   "id": "09ac49cd",
   "metadata": {},
   "source": [
    "📝 Bài 1 – Trung bình\n",
    "\n",
    "Đề: Viết chương trình nhập vào một số nguyên. Nếu số đó chẵn thì in \"Even\", ngược lại in \"Odd\"."
   ]
  },
  {
   "cell_type": "code",
   "execution_count": 1,
   "id": "9b0f3b51",
   "metadata": {},
   "outputs": [
    {
     "name": "stdout",
     "output_type": "stream",
     "text": [
      "Odd\n"
     ]
    }
   ],
   "source": [
    "n = int(input(\"Nhap so nguyen:\"))\n",
    "if ( n % 2 == 0 ):\n",
    "    print(\"Even\")\n",
    "else:\n",
    "    print(\"Odd\")"
   ]
  },
  {
   "cell_type": "markdown",
   "id": "7b818c75",
   "metadata": {},
   "source": [
    "📝 Bài 2 – Nâng cao 1\n",
    "\n",
    "Đề: Viết chương trình nhập vào một số nguyên từ 0 → 100.\n",
    "\n",
    "Nếu số < 50: in \"Fail\"\n",
    "\n",
    "Nếu từ 50 → 69: in \"Pass\"\n",
    "\n",
    "Nếu từ 70 → 89: in \"Good\"\n",
    "\n",
    "Nếu ≥ 90: in \"Excellent\"."
   ]
  },
  {
   "cell_type": "code",
   "execution_count": 4,
   "id": "a3976aaa",
   "metadata": {},
   "outputs": [
    {
     "name": "stdout",
     "output_type": "stream",
     "text": [
      "Excellent\n"
     ]
    }
   ],
   "source": [
    "n = int(input(\"Nhap so nguyen\"))\n",
    "if ( n < 50 ):\n",
    "    print(\"Fall\")\n",
    "elif ( n in range(50,70)):\n",
    "    print(\"Pass\")\n",
    "elif ( n in range(70,90)):\n",
    "    print(\"Good\")\n",
    "elif ( n in range(90,101)):\n",
    "    print(\"Excellent\")\n",
    "else :\n",
    "    print(\"Syntax Error\")"
   ]
  },
  {
   "cell_type": "markdown",
   "id": "0c7359e7",
   "metadata": {},
   "source": [
    "📝 Bài 3 – Nâng cao 2\n",
    "\n",
    "Đề: Viết chương trình yêu cầu nhập tuổi.\n",
    "\n",
    "Nếu < 0: in \"Invalid age\"\n",
    "\n",
    "Nếu < 18: in \"Minor\"\n",
    "\n",
    "Nếu từ 18 → 59: in \"Adult\"\n",
    "\n",
    "Nếu ≥ 60: in \"Senior\"."
   ]
  },
  {
   "cell_type": "code",
   "execution_count": 9,
   "id": "33d0db0b",
   "metadata": {},
   "outputs": [
    {
     "name": "stdout",
     "output_type": "stream",
     "text": [
      "Invalid age\n"
     ]
    }
   ],
   "source": [
    "age = int(input(\"Nhap tuoi:\"))\n",
    "if ( age < 0 ):\n",
    "    print(\"Invalid age\")\n",
    "elif ( age < 18 ):\n",
    "    print(\"Minior\")\n",
    "elif ( age in range(18,60)):\n",
    "    print(\"Adult\")\n",
    "else:\n",
    "    print(\"Senior\")"
   ]
  },
  {
   "cell_type": "markdown",
   "id": "f2b4f224",
   "metadata": {},
   "source": [
    "📝 Bài 4 – Nâng cao 3\n",
    "\n",
    "Đề: Nhập vào 3 số nguyên a, b, c. Viết chương trình tìm số lớn nhất."
   ]
  },
  {
   "cell_type": "code",
   "execution_count": null,
   "id": "9756e983",
   "metadata": {},
   "outputs": [
    {
     "name": "stdout",
     "output_type": "stream",
     "text": [
      "76\n"
     ]
    }
   ],
   "source": [
    "a = int(input(\"Nhap so a:\"))\n",
    "b = int(input(\"Nhap so b:\"))\n",
    "c = int(input(\"Nhap so c:\"))\n",
    "if ( a > b ):\n",
    "    if ( a > c ): \n",
    "        print(a)\n",
    "    else:\n",
    "        print(c)\n",
    "else: # a <= b\n",
    "    if ( b > c ):\n",
    "        print(b)\n",
    "    else:\n",
    "        print(c)"
   ]
  }
 ],
 "metadata": {
  "kernelspec": {
   "display_name": "aligner",
   "language": "python",
   "name": "python3"
  },
  "language_info": {
   "codemirror_mode": {
    "name": "ipython",
    "version": 3
   },
   "file_extension": ".py",
   "mimetype": "text/x-python",
   "name": "python",
   "nbconvert_exporter": "python",
   "pygments_lexer": "ipython3",
   "version": "3.11.12"
  }
 },
 "nbformat": 4,
 "nbformat_minor": 5
}
