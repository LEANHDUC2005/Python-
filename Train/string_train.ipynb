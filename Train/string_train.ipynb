{
 "cells": [
  {
   "cell_type": "markdown",
   "id": "9db16660",
   "metadata": {},
   "source": [
    "1. Nhập vào một chuỗi, in độ dài chuỗi\n",
    "\n",
    "2. Đếm số lần xuất hiện của một ký tự trong chuỗi\n",
    "\n",
    "3. Chuyển chuỗi sang chữ hoa / chữ thường\n",
    "\n",
    "4. Kiểm tra chuỗi có bắt đầu hoặc kết thúc bằng một ký tự/chuỗi con\n",
    "\n",
    "5. Cắt chuỗi con theo chỉ số\n",
    "\n",
    "6. Đảo ngược chuỗi\n",
    "\n",
    "7. Tách chuỗi thành danh sách từ\n",
    "\n",
    "8. Nối danh sách thành chuỗi\n",
    "\n",
    "9. Thay thế chuỗi con\n",
    "\n",
    "10. Xóa khoảng trắng thừa ở đầu/cuối chuỗi"
   ]
  },
  {
   "cell_type": "code",
   "execution_count": null,
   "id": "04f4ef20",
   "metadata": {},
   "outputs": [
    {
     "data": {
      "text/plain": [
       "3"
      ]
     },
     "execution_count": 1,
     "metadata": {},
     "output_type": "execute_result"
    }
   ],
   "source": [
    "str = \"hello world\""
   ]
  },
  {
   "cell_type": "code",
   "execution_count": 2,
   "id": "67395839",
   "metadata": {},
   "outputs": [
    {
     "data": {
      "text/plain": [
       "3"
      ]
     },
     "execution_count": 2,
     "metadata": {},
     "output_type": "execute_result"
    }
   ],
   "source": [
    "str.count(\"l\")"
   ]
  },
  {
   "cell_type": "code",
   "execution_count": 3,
   "id": "5ed8810b",
   "metadata": {},
   "outputs": [
    {
     "data": {
      "text/plain": [
       "'HELLO WORLD'"
      ]
     },
     "execution_count": 3,
     "metadata": {},
     "output_type": "execute_result"
    }
   ],
   "source": [
    "str.upper()"
   ]
  },
  {
   "cell_type": "code",
   "execution_count": 4,
   "id": "4d310685",
   "metadata": {},
   "outputs": [
    {
     "data": {
      "text/plain": [
       "'hello world'"
      ]
     },
     "execution_count": 4,
     "metadata": {},
     "output_type": "execute_result"
    }
   ],
   "source": [
    "str.lower()"
   ]
  },
  {
   "cell_type": "code",
   "execution_count": null,
   "id": "77bb787d",
   "metadata": {},
   "outputs": [
    {
     "data": {
      "text/plain": [
       "True"
      ]
     },
     "execution_count": 11,
     "metadata": {},
     "output_type": "execute_result"
    }
   ],
   "source": [
    "str.startswith(\"e\") #False\n",
    "str.startswith(\"H\") #False\n",
    "str.startswith(\"h\") #True"
   ]
  },
  {
   "cell_type": "code",
   "execution_count": null,
   "id": "1d7f043b",
   "metadata": {},
   "outputs": [
    {
     "data": {
      "text/plain": [
       "True"
      ]
     },
     "execution_count": 13,
     "metadata": {},
     "output_type": "execute_result"
    }
   ],
   "source": [
    "str.endswith(\"world\") #true\n",
    "str.endswith(\"d\")     #true\n",
    "str.endswith(\"ld\")    #true"
   ]
  },
  {
   "cell_type": "code",
   "execution_count": null,
   "id": "4d919b23",
   "metadata": {},
   "outputs": [
    {
     "ename": "TypeError",
     "evalue": "string indices must be integers, not 'tuple'",
     "output_type": "error",
     "traceback": [
      "\u001b[31m---------------------------------------------------------------------------\u001b[39m",
      "\u001b[31mTypeError\u001b[39m                                 Traceback (most recent call last)",
      "\u001b[36mCell\u001b[39m\u001b[36m \u001b[39m\u001b[32mIn[15]\u001b[39m\u001b[32m, line 1\u001b[39m\n\u001b[32m----> \u001b[39m\u001b[32m1\u001b[39m \u001b[38;5;28;43mstr\u001b[39;49m\u001b[43m[\u001b[49m\u001b[43m:\u001b[49m\u001b[43m,\u001b[49m\u001b[32;43m3\u001b[39;49m\u001b[43m,\u001b[49m\u001b[32;43m5\u001b[39;49m\u001b[43m]\u001b[49m\n",
      "\u001b[31mTypeError\u001b[39m: string indices must be integers, not 'tuple'"
     ]
    }
   ],
   "source": []
  },
  {
   "cell_type": "code",
   "execution_count": null,
   "id": "f3d1bbfa",
   "metadata": {},
   "outputs": [],
   "source": []
  }
 ],
 "metadata": {
  "kernelspec": {
   "display_name": "Python 3",
   "language": "python",
   "name": "python3"
  },
  "language_info": {
   "codemirror_mode": {
    "name": "ipython",
    "version": 3
   },
   "file_extension": ".py",
   "mimetype": "text/x-python",
   "name": "python",
   "nbconvert_exporter": "python",
   "pygments_lexer": "ipython3",
   "version": "3.13.5"
  }
 },
 "nbformat": 4,
 "nbformat_minor": 5
}
