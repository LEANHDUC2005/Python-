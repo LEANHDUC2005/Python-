{
 "cells": [
  {
   "cell_type": "markdown",
   "id": "335e2d82",
   "metadata": {},
   "source": [
    "Nhóm 1: List (5 câu)\n",
    "\n",
    "Tạo một list gồm các số từ 1 đến 5.\n",
    "\n",
    "Thêm số 6 vào cuối list bằng phương thức thích hợp.\n",
    "\n",
    "Xóa phần tử thứ 2 trong list.\n",
    "\n",
    "Sắp xếp list theo thứ tự giảm dần.\n",
    "\n",
    "Sử dụng module random để chọn ngẫu nhiên một phần tử từ list."
   ]
  },
  {
   "cell_type": "code",
   "execution_count": null,
   "id": "56119165",
   "metadata": {},
   "outputs": [
    {
     "name": "stdout",
     "output_type": "stream",
     "text": [
      "[1, 3, 4, 5, 6]\n"
     ]
    }
   ],
   "source": [
    "lst = [1, 2, 3, 4, 5]\n",
    "lst.append(6)\n",
    "lst.remove(lst[1])\n",
    "lst.sort(reverse = True)\n"
   ]
  },
  {
   "cell_type": "markdown",
   "id": "62bc1f44",
   "metadata": {},
   "source": [
    "Nhóm 2: Tuple (5 câu)\n",
    "\n",
    "Tạo một tuple gồm các số (10, 20, 30, 40).\n",
    "\n",
    "Lấy phần tử thứ 3 của tuple.\n",
    "\n",
    "Ghép tuple (50, 60) vào tuple đã tạo ở câu 6.\n",
    "\n",
    "Đếm số lần xuất hiện của phần tử 20 trong tuple.\n",
    "\n",
    "Chuyển tuple thành list để thêm phần tử mới."
   ]
  },
  {
   "cell_type": "code",
   "execution_count": 2,
   "id": "f7d8f204",
   "metadata": {},
   "outputs": [
    {
     "name": "stdout",
     "output_type": "stream",
     "text": [
      "30\n",
      "(10, 20, 30, 40, 50, 60)\n",
      "1\n",
      "[10, 20, 30, 40, 50, 60]\n"
     ]
    }
   ],
   "source": [
    "tup = (10, 20 ,30 ,40)\n",
    "print(tup[2])\n",
    "tup2 = (50, 60)\n",
    "tup = list(tup)\n",
    "tup.extend(tup2)\n",
    "tup = tuple(tup)\n",
    "print(tup)\n",
    "print(tup.count(20))\n",
    "tup = list(tup)\n",
    "print(tup)"
   ]
  }
 ],
 "metadata": {
  "kernelspec": {
   "display_name": "Python 3",
   "language": "python",
   "name": "python3"
  },
  "language_info": {
   "codemirror_mode": {
    "name": "ipython",
    "version": 3
   },
   "file_extension": ".py",
   "mimetype": "text/x-python",
   "name": "python",
   "nbconvert_exporter": "python",
   "pygments_lexer": "ipython3",
   "version": "3.13.5"
  }
 },
 "nbformat": 4,
 "nbformat_minor": 5
}
