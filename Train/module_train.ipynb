{
 "cells": [
  {
   "cell_type": "markdown",
   "id": "02528925",
   "metadata": {},
   "source": [
    "📌 Bài 1: Module đơn giản\n",
    "\n",
    "Tạo file mymath.py chứa 3 hàm:\n",
    "\n",
    "add(a, b) → trả về tổng 2 số.\n",
    "\n",
    "subtract(a, b) → trả về hiệu 2 số.\n",
    "\n",
    "multiply(a, b) → trả về tích 2 số.\n",
    "\n",
    "Tạo file main.py để import mymath và gọi thử 3 hàm với các giá trị nhập từ bàn phím."
   ]
  },
  {
   "cell_type": "code",
   "execution_count": 2,
   "id": "04a7ab87",
   "metadata": {},
   "outputs": [
    {
     "name": "stdout",
     "output_type": "stream",
     "text": [
      "3\n",
      "-1\n",
      "8\n"
     ]
    }
   ],
   "source": [
    "import mypackage.my_math as math\n",
    "math.add(1,2)\n",
    "math.subtract(4,5)\n",
    "math.multiply(2,4)"
   ]
  },
  {
   "cell_type": "markdown",
   "id": "57ba326a",
   "metadata": {},
   "source": [
    "Bài 2: Module thông tin cá nhân\n",
    "\n",
    "Tạo file userinfo.py chứa 2 hàm:\n",
    "\n",
    "info() → nhập tên, tuổi, giới tính từ bàn phím và in ra.\n",
    "\n",
    "greeting(name) → in ra \"Hello, <name>\".\n",
    "\n",
    "Tạo file test_userinfo.py để import và chạy 2 hàm trên."
   ]
  },
  {
   "cell_type": "code",
   "execution_count": null,
   "id": "1afae584",
   "metadata": {},
   "outputs": [],
   "source": [
    "import mypackage.userinfo as ui\n",
    "ui.info()\n",
    "ui.greeting(\"Duc\")"
   ]
  },
  {
   "cell_type": "markdown",
   "id": "5fb230b4",
   "metadata": {},
   "source": [
    "Bài 3: Module xử lý chuỗi\n",
    "\n",
    "Tạo file string_utils.py với các hàm:\n",
    "\n",
    "to_upper(text) → chuyển chuỗi thành chữ in hoa.\n",
    "\n",
    "to_lower(text) → chuyển chuỗi thành chữ thường.\n",
    "\n",
    "count_words(text) → đếm số từ trong chuỗi.\n",
    "\n",
    "Tạo file main_string.py nhập 1 đoạn văn từ bàn phím và sử dụng các hàm trên."
   ]
  },
  {
   "cell_type": "code",
   "execution_count": null,
   "id": "df0e0d03",
   "metadata": {},
   "outputs": [
    {
     "name": "stdout",
     "output_type": "stream",
     "text": [
      "SCHOOL\n",
      "school\n",
      "5\n"
     ]
    }
   ],
   "source": [
    "import mypackage.string_utils as str\n",
    "str.to_upper(\"school\")\n",
    "str.to_lower(\"SCHOOL\")\n",
    "str.count_words(\"this is my secondary school\")"
   ]
  },
  {
   "cell_type": "markdown",
   "id": "1bdcae24",
   "metadata": {},
   "source": [
    "Bài 4: Module quản lý điểm\n",
    "\n",
    "Tạo file grades.py chứa hàm:\n",
    "\n",
    "average(grades_list) → trả về điểm trung bình.\n",
    "\n",
    "highest(grades_list) → trả về điểm cao nhất.\n",
    "\n",
    "lowest(grades_list) → trả về điểm thấp nhất.\n",
    "\n",
    "Tạo file main_grades.py để thử nghiệm: nhập danh sách điểm, rồi in trung bình, cao nhất, thấp nhất."
   ]
  },
  {
   "cell_type": "code",
   "execution_count": null,
   "id": "8cb904af",
   "metadata": {},
   "outputs": [
    {
     "name": "stdout",
     "output_type": "stream",
     "text": [
      "4.0\n",
      "7\n",
      "10\n"
     ]
    }
   ],
   "source": [
    "import mypackage.grades as grades \n",
    "grades.average([3,4,5])\n",
    "grades.highest([5,6,7])\n",
    "grades.lowest([10,20,40])"
   ]
  },
  {
   "cell_type": "markdown",
   "id": "eb1ff7e9",
   "metadata": {},
   "source": [
    "Bài 5: Module nâng cao (chia thành package)\n",
    "\n",
    "Tạo thư mục mypackage/ gồm:\n",
    "\n",
    "math_utils.py → chứa các hàm toán.\n",
    "\n",
    "string_utils.py → chứa các hàm chuỗi.\n",
    "\n",
    "File __init__.py (có thể để trống).\n",
    "\n",
    "Tạo file main.py để import cả 2 module trong mypackage và sử dụng."
   ]
  },
  {
   "cell_type": "code",
   "execution_count": 1,
   "id": "7fc12869",
   "metadata": {},
   "outputs": [
    {
     "name": "stdout",
     "output_type": "stream",
     "text": [
      "9.333333333333334\n"
     ]
    }
   ],
   "source": [
    "import mypackage\n",
    "mypackage.grades.average([1,23,4])"
   ]
  }
 ],
 "metadata": {
  "kernelspec": {
   "display_name": "Python 3",
   "language": "python",
   "name": "python3"
  },
  "language_info": {
   "codemirror_mode": {
    "name": "ipython",
    "version": 3
   },
   "file_extension": ".py",
   "mimetype": "text/x-python",
   "name": "python",
   "nbconvert_exporter": "python",
   "pygments_lexer": "ipython3",
   "version": "3.13.5"
  }
 },
 "nbformat": 4,
 "nbformat_minor": 5
}
